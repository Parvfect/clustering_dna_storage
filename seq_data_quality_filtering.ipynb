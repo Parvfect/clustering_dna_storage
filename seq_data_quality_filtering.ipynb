{
 "cells": [
  {
   "cell_type": "markdown",
   "id": "86d15b18",
   "metadata": {},
   "source": [
    "## Quality filtering for sequencing data\n",
    "\n",
    "Uptil now, we have been using all reads without taking the information from the basecaller's quality threshold into clustering. I wish to examine the following\n",
    "\n",
    "1. What is the difference in the IDS rates in a normal sequencing experiment as a function of the quality of the read?\n",
    "2. Can we isolate the errors introduced by synthesis by filtering out low quality reads? "
   ]
  },
  {
   "cell_type": "markdown",
   "id": "993995e4",
   "metadata": {},
   "source": [
    "### IDS rates for different quality reads\n",
    "Testing on the barcoded run (cleaner data) - 200125"
   ]
  },
  {
   "cell_type": "code",
   "execution_count": 1,
   "id": "e7d352db",
   "metadata": {},
   "outputs": [],
   "source": [
    "import Bio\n",
    "from utils import get_fastq_records, reverse_complement\n",
    "import os\n",
    "import numpy as np\n",
    "import matplotlib.pyplot as plt\n",
    "from Levenshtein import ratio"
   ]
  },
  {
   "cell_type": "code",
   "execution_count": 38,
   "id": "c0823c47",
   "metadata": {},
   "outputs": [],
   "source": [
    "original_sequence = \"AGTGCAACAAGTCAATCCGTTTCACCAAGGAGGCCTCCTGGAACAATGAATTATGGCGCCAAGACATGGTGGATCCTAACTGGAGCGCCGACCTGGAGATACGATCCGGAGGTGCCAGGATCGTCTCTGGAACGCTCCGAAAGTCTTGTT\""
   ]
  },
  {
   "cell_type": "code",
   "execution_count": 39,
   "id": "10e77a9b",
   "metadata": {},
   "outputs": [],
   "source": [
    "fq_filepath = r\"C:\\Users\\Parv\\Doc\\RA\\Projects\\sequencing_data\\sequencingData\\020425 - Full Circle 150 NC 4.5S Coupling Time\\xaa\\xaa\""
   ]
  },
  {
   "cell_type": "code",
   "execution_count": 40,
   "id": "e42ee398",
   "metadata": {},
   "outputs": [
    {
     "name": "stderr",
     "output_type": "stream",
     "text": [
      "200000it [00:05, 39506.06it/s]\n"
     ]
    }
   ],
   "source": [
    "records = get_fastq_records(fq_filepath)"
   ]
  },
  {
   "cell_type": "code",
   "execution_count": 41,
   "id": "e1086011",
   "metadata": {},
   "outputs": [],
   "source": [
    "avg_qualities = [np.mean(i.letter_annotations[\"phred_quality\"]) for i in records]"
   ]
  },
  {
   "cell_type": "code",
   "execution_count": 44,
   "id": "183137c6",
   "metadata": {},
   "outputs": [
    {
     "data": {
      "text/plain": [
       "Text(0, 0.5, 'Number of reads')"
      ]
     },
     "execution_count": 44,
     "metadata": {},
     "output_type": "execute_result"
    },
    {
     "data": {
      "image/png": "[encoded data removed]",
      "text/plain": [
       "<Figure size 640x480 with 1 Axes>"
      ]
     },
     "metadata": {},
     "output_type": "display_data"
    }
   ],
   "source": [
    "plt.hist(avg_qualities)\n",
    "plt.title(\"Average read qualities for 2.4.25 (4.5s)\")\n",
    "plt.xlabel(\"Phred score\")\n",
    "plt.ylabel(\"Number of reads\")"
   ]
  },
  {
   "cell_type": "code",
   "execution_count": 45,
   "id": "5757ea83",
   "metadata": {},
   "outputs": [],
   "source": [
    "from difflib import SequenceMatcher\n",
    "\n",
    "def get_prediction_errors(original, predicted):\n",
    "    sm = SequenceMatcher(None, original, predicted)\n",
    "    errors = [0] * len(predicted)  # Assume all bases are correct initially\n",
    "\n",
    "    for tag, i1, i2, j1, j2 in sm.get_opcodes():\n",
    "        if tag == 'equal':\n",
    "            continue\n",
    "        elif tag == 'replace':\n",
    "            for j in range(j1, j2):\n",
    "                errors[j] = 1\n",
    "        elif tag == 'insert':\n",
    "            for j in range(j1, j2):\n",
    "                errors[j] = 1\n",
    "        elif tag == 'delete':\n",
    "            pass\n",
    "\n",
    "    return errors\n"
   ]
  },
  {
   "cell_type": "code",
   "execution_count": 46,
   "id": "4a5582ae",
   "metadata": {},
   "outputs": [
    {
     "name": "stderr",
     "output_type": "stream",
     "text": [
      "100%|██████████| 10000/10000 [00:24<00:00, 411.37it/s]\n"
     ]
    }
   ],
   "source": [
    "from Levenshtein import editops, distance\n",
    "from tqdm import tqdm\n",
    "from strand_reconstruction import align\n",
    "\n",
    "errors = []\n",
    "qualities = []\n",
    "\n",
    "for record in tqdm(records[:10000]):\n",
    "\n",
    "    qscore = record.letter_annotations[\"phred_quality\"]\n",
    "    strand = str(record.seq)\n",
    "    rev_strand = reverse_complement(strand)\n",
    "\n",
    "    if ratio(strand, original_sequence) < ratio(rev_strand, original_sequence):\n",
    "        strand = rev_strand\n",
    "        qscore = qscore[::-1]\n",
    "\n",
    "    etops = get_prediction_errors(original_sequence, strand)\n",
    "\n",
    "    for i, j in zip(etops, qscore):\n",
    "        errors.append(i)\n",
    "        qualities.append(j)\n"
   ]
  },
  {
   "cell_type": "code",
   "execution_count": 47,
   "id": "afa07f9f",
   "metadata": {},
   "outputs": [],
   "source": [
    "\n",
    "import pandas as pd\n",
    "\n",
    "df = pd.DataFrame(\n",
    "    {\n",
    "        \"quality\": qualities,\n",
    "        \"error\": errors\n",
    "     }\n",
    ")"
   ]
  },
  {
   "cell_type": "code",
   "execution_count": 49,
   "id": "d72faf10",
   "metadata": {},
   "outputs": [
    {
     "name": "stdout",
     "output_type": "stream",
     "text": [
      "5 0.9113077793718201\n",
      "10 0.9155415598129432\n",
      "15 0.9174909663438688\n",
      "20 0.9185709112627505\n",
      "25 0.9193455541301196\n",
      "30 0.9200075240943539\n",
      "35 0.9203543873958602\n",
      "40 0.9214024140274418\n",
      "45 0.9217902742407705\n"
     ]
    }
   ],
   "source": [
    "quality_thresholds = np.arange(5, 50, 5)\n",
    "\n",
    "\n",
    "for threshold in quality_thresholds:\n",
    "    filtered_df = df.loc[df['quality'] > threshold]\n",
    "\n",
    "    error_probability = filtered_df['error'].value_counts()[0] / (filtered_df['error'].value_counts()[0] + filtered_df['error'].value_counts()[1])\n",
    "    print(threshold, error_probability)"
   ]
  },
  {
   "cell_type": "code",
   "execution_count": null,
   "id": "75494714",
   "metadata": {},
   "outputs": [
    {
     "data": {
      "text/plain": [
       "error\n",
       "0    344796\n",
       "1     11789\n",
       "Name: count, dtype: int64"
      ]
     },
     "execution_count": 31,
     "metadata": {},
     "output_type": "execute_result"
    }
   ],
   "source": [
    "filtered_df['error'].value_counts()[0]"
   ]
  },
  {
   "cell_type": "code",
   "execution_count": 39,
   "id": "71617498",
   "metadata": {},
   "outputs": [
    {
     "data": {
      "text/plain": [
       "Text(0.5, 1.0, 'Correct base quality distribution')"
      ]
     },
     "execution_count": 39,
     "metadata": {},
     "output_type": "execute_result"
    },
    {
     "data": {
      "image/png": "[encoded data removed]",
      "text/plain": [
       "<Figure size 640x480 with 1 Axes>"
      ]
     },
     "metadata": {},
     "output_type": "display_data"
    }
   ],
   "source": [
    "plt.hist(correct_base_qualities)\n",
    "plt.title(\"Correct base quality distribution\")"
   ]
  },
  {
   "cell_type": "code",
   "execution_count": null,
   "id": "ca6713e2",
   "metadata": {},
   "outputs": [
    {
     "name": "stdout",
     "output_type": "stream",
     "text": [
      "26.799944958107005\n"
     ]
    }
   ],
   "source": [
    "print(np.mean(incorrect_base_qualities))"
   ]
  },
  {
   "cell_type": "code",
   "execution_count": 41,
   "id": "e3c7bffd",
   "metadata": {},
   "outputs": [
    {
     "name": "stdout",
     "output_type": "stream",
     "text": [
      "32.59965331928415\n"
     ]
    }
   ],
   "source": [
    "print(np.mean(correct_base_qualities))"
   ]
  },
  {
   "cell_type": "code",
   "execution_count": 50,
   "id": "672b72a7",
   "metadata": {},
   "outputs": [
    {
     "data": {
      "application/vnd.jupyter.widget-view+json": {
       "model_id": "4e8e4b3bc3174c95934db2ae242226fe",
       "version_major": 2,
       "version_minor": 0
      },
      "text/plain": [
       "  0%|          | 0/200000 [00:00<?, ?it/s]"
      ]
     },
     "metadata": {},
     "output_type": "display_data"
    }
   ],
   "source": [
    "from evaluation import count_ids_errors\n",
    "from tqdm.notebook import tqdm\n",
    "# Checking ids rates for both reads\n",
    "\n",
    "quality_score = []\n",
    "\n",
    "subsitutions = []\n",
    "insertions = []\n",
    "deletions = []\n",
    "\n",
    "for record in tqdm(records):\n",
    "\n",
    "    strand = str(record.seq)\n",
    "    rev_strand = reverse_complement(strand)\n",
    "\n",
    "    if ratio(strand, original_sequence) < ratio(rev_strand, original_sequence):\n",
    "        strand = rev_strand\n",
    "\n",
    "    ids = count_ids_errors(strand, original_sequence)\n",
    "    subsitutions.append(ids[\"Substitutions\"])\n",
    "    deletions.append(ids[\"Deletions\"])\n",
    "    insertions.append(ids[\"Insertions\"])\n",
    "    quality_score.append(\n",
    "        np.mean(record.letter_annotations[\"phred_quality\"]))\n",
    "    "
   ]
  },
  {
   "cell_type": "code",
   "execution_count": 53,
   "id": "3562ede0",
   "metadata": {},
   "outputs": [],
   "source": [
    "import pandas as pd\n",
    "\n",
    "df = pd.DataFrame({\n",
    "    \"subsitutions\": subsitutions,\n",
    "    \"insertions\": insertions,\n",
    "    \"deletions\": deletions,\n",
    "    \"quality\": quality_score\n",
    "    })"
   ]
  },
  {
   "cell_type": "code",
   "execution_count": 60,
   "id": "03152f13",
   "metadata": {},
   "outputs": [],
   "source": [
    "lens = [len(i.seq) for i in records]"
   ]
  },
  {
   "cell_type": "code",
   "execution_count": 61,
   "id": "6fa69c6a",
   "metadata": {},
   "outputs": [
    {
     "data": {
      "text/plain": [
       "(array([1.34200e+03, 1.62694e+05, 3.52350e+04, 1.26000e+02, 1.89000e+02,\n",
       "        1.05000e+02, 6.30000e+01, 1.31000e+02, 1.03000e+02, 1.20000e+01]),\n",
       " array([ 50.,  89., 128., 167., 206., 245., 284., 323., 362., 401., 440.]),\n",
       " <BarContainer object of 10 artists>)"
      ]
     },
     "execution_count": 61,
     "metadata": {},
     "output_type": "execute_result"
    },
    {
     "data": {
      "image/png": "[encoded data removed]",
      "text/plain": [
       "<Figure size 640x480 with 1 Axes>"
      ]
     },
     "metadata": {},
     "output_type": "display_data"
    }
   ],
   "source": [
    "plt.hist(lens)"
   ]
  },
  {
   "cell_type": "code",
   "execution_count": 54,
   "id": "5e986691",
   "metadata": {},
   "outputs": [
    {
     "data": {
      "text/html": [
       "<div>\n",
       "<style scoped>\n",
       "    .dataframe tbody tr th:only-of-type {\n",
       "        vertical-align: middle;\n",
       "    }\n",
       "\n",
       "    .dataframe tbody tr th {\n",
       "        vertical-align: top;\n",
       "    }\n",
       "\n",
       "    .dataframe thead th {\n",
       "        text-align: right;\n",
       "    }\n",
       "</style>\n",
       "<table border=\"1\" class=\"dataframe\">\n",
       "  <thead>\n",
       "    <tr style=\"text-align: right;\">\n",
       "      <th></th>\n",
       "      <th>subsitutions</th>\n",
       "      <th>insertions</th>\n",
       "      <th>deletions</th>\n",
       "      <th>quality</th>\n",
       "    </tr>\n",
       "  </thead>\n",
       "  <tbody>\n",
       "    <tr>\n",
       "      <th>subsitutions</th>\n",
       "      <td>1.000000</td>\n",
       "      <td>-0.253734</td>\n",
       "      <td>0.372890</td>\n",
       "      <td>-0.169464</td>\n",
       "    </tr>\n",
       "    <tr>\n",
       "      <th>insertions</th>\n",
       "      <td>-0.253734</td>\n",
       "      <td>1.000000</td>\n",
       "      <td>-0.196618</td>\n",
       "      <td>0.039277</td>\n",
       "    </tr>\n",
       "    <tr>\n",
       "      <th>deletions</th>\n",
       "      <td>0.372890</td>\n",
       "      <td>-0.196618</td>\n",
       "      <td>1.000000</td>\n",
       "      <td>-0.062805</td>\n",
       "    </tr>\n",
       "    <tr>\n",
       "      <th>quality</th>\n",
       "      <td>-0.169464</td>\n",
       "      <td>0.039277</td>\n",
       "      <td>-0.062805</td>\n",
       "      <td>1.000000</td>\n",
       "    </tr>\n",
       "  </tbody>\n",
       "</table>\n",
       "</div>"
      ],
      "text/plain": [
       "              subsitutions  insertions  deletions   quality\n",
       "subsitutions      1.000000   -0.253734   0.372890 -0.169464\n",
       "insertions       -0.253734    1.000000  -0.196618  0.039277\n",
       "deletions         0.372890   -0.196618   1.000000 -0.062805\n",
       "quality          -0.169464    0.039277  -0.062805  1.000000"
      ]
     },
     "execution_count": 54,
     "metadata": {},
     "output_type": "execute_result"
    }
   ],
   "source": [
    "df.corr()"
   ]
  },
  {
   "cell_type": "markdown",
   "id": "a920e415",
   "metadata": {},
   "source": [
    "1. Moderately, higher quality scores lead to lower subsitutions\n",
    "2. Very weakly, higher quality scores lead to lower insertions\n",
    "\n",
    "Let's check the other sequences"
   ]
  },
  {
   "cell_type": "code",
   "execution_count": 78,
   "id": "a08fc5e5",
   "metadata": {},
   "outputs": [],
   "source": [
    "# Average quality per/aligned base\n",
    "# Average prediction error (IDS)"
   ]
  }
 ],
 "metadata": {
  "kernelspec": {
   "display_name": "pytorch_gpu",
   "language": "python",
   "name": "python3"
  },
  "language_info": {
   "codemirror_mode": {
    "name": "ipython",
    "version": 3
   },
   "file_extension": ".py",
   "mimetype": "text/x-python",
   "name": "python",
   "nbconvert_exporter": "python",
   "pygments_lexer": "ipython3",
   "version": "3.12.3"
  }
 },
 "nbformat": 4,
 "nbformat_minor": 5
}
