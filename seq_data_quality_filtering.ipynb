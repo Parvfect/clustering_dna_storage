{
 "cells": [
  {
   "cell_type": "markdown",
   "id": "86d15b18",
   "metadata": {},
   "source": [
    "## Quality filtering for sequencing data\n",
    "\n",
    "Uptil now, we have been using all reads without taking the information from the basecaller's quality threshold into clustering. I wish to examine the following\n",
    "\n",
    "1. What is the difference in the IDS rates in a normal sequencing experiment as a function of the quality of the read?\n",
    "2. Can we isolate the errors introduced by synthesis by filtering out low quality reads? "
   ]
  },
  {
   "cell_type": "markdown",
   "id": "993995e4",
   "metadata": {},
   "source": [
    "### IDS rates for different quality reads\n",
    "Testing on the barcoded run (cleaner data) - 200125"
   ]
  },
  {
   "cell_type": "code",
   "execution_count": 32,
   "id": "e7d352db",
   "metadata": {},
   "outputs": [],
   "source": [
    "import Bio\n",
    "from utils import get_fastq_records, reverse_complement\n",
    "import os\n",
    "import numpy as np\n",
    "import matplotlib.pyplot as plt\n",
    "from Levenshtein import ratio"
   ]
  },
  {
   "cell_type": "code",
   "execution_count": null,
   "id": "8f00772e",
   "metadata": {},
   "outputs": [],
   "source": [
    "from Bio import SeqIO\n",
    "for record in SeqIO.parse(input_file, \"fastq\"):\n",
    "    score=record.letter_annotations[\"phred_quality\"]"
   ]
  },
  {
   "cell_type": "code",
   "execution_count": 63,
   "id": "c0823c47",
   "metadata": {},
   "outputs": [],
   "source": [
    "original_sequence = \"AGTGCAACAAGTCAATCCGTTTCCCCAAGGAGGCCTCCTGGAACAATGAATTATGGCGCCAAGACATGGGGGATCCTAACTGGGGCGCCGACCTGGAGAAACGATCCGGAGGTGCCAGGATCGTCTCTGGAACGCTCCGAAAGTCTTGTT\""
   ]
  },
  {
   "cell_type": "code",
   "execution_count": 64,
   "id": "10e77a9b",
   "metadata": {},
   "outputs": [],
   "source": [
    "fq_filepath = r\"C:\\Users\\Parv\\Doc\\RA\\Projects\\sequencing_data\\sequencingData\\261124_100ng150ntOK_500nMRV_200fmolONT\\fastq_pass\\AWI798_pass_d23caac0_2abf8495_0.fastq\""
   ]
  },
  {
   "cell_type": "code",
   "execution_count": 65,
   "id": "e42ee398",
   "metadata": {},
   "outputs": [
    {
     "name": "stderr",
     "output_type": "stream",
     "text": [
      "196it [00:00, 48968.52it/s]\n"
     ]
    }
   ],
   "source": [
    "records = get_fastq_records(fq_filepath)"
   ]
  },
  {
   "cell_type": "code",
   "execution_count": 66,
   "id": "e1086011",
   "metadata": {},
   "outputs": [],
   "source": [
    "avg_qualities = [np.mean(i.letter_annotations[\"phred_quality\"]) for i in records]"
   ]
  },
  {
   "cell_type": "code",
   "execution_count": 68,
   "id": "183137c6",
   "metadata": {},
   "outputs": [
    {
     "data": {
      "text/plain": [
       "Text(0, 0.5, 'Number of reads')"
      ]
     },
     "execution_count": 68,
     "metadata": {},
     "output_type": "execute_result"
    },
    {
     "data": {
      "image/png": "[encoded data removed]",
      "text/plain": [
       "<Figure size 640x480 with 1 Axes>"
      ]
     },
     "metadata": {},
     "output_type": "display_data"
    }
   ],
   "source": [
    "plt.hist(avg_qualities)\n",
    "plt.title(\"Average read qualities for 261124\")\n",
    "plt.xlabel(\"Phred score\")\n",
    "plt.ylabel(\"Number of reads\")"
   ]
  },
  {
   "cell_type": "code",
   "execution_count": 69,
   "id": "672b72a7",
   "metadata": {},
   "outputs": [
    {
     "data": {
      "application/vnd.jupyter.widget-view+json": {
       "model_id": "29c2426ab7b2403b979f756b0e6da22c",
       "version_major": 2,
       "version_minor": 0
      },
      "text/plain": [
       "  0%|          | 0/196 [00:00<?, ?it/s]"
      ]
     },
     "metadata": {},
     "output_type": "display_data"
    }
   ],
   "source": [
    "from evaluation import count_ids_errors\n",
    "from tqdm.notebook import tqdm\n",
    "# Checking ids rates for both reads\n",
    "\n",
    "quality_score = []\n",
    "\n",
    "subsitutions = []\n",
    "insertions = []\n",
    "deletions = []\n",
    "\n",
    "for record in tqdm(records):\n",
    "\n",
    "    strand = str(record.seq)\n",
    "    rev_strand = reverse_complement(strand)\n",
    "\n",
    "    if ratio(strand, original_sequence) < ratio(rev_strand, original_sequence):\n",
    "        strand = rev_strand\n",
    "\n",
    "    ids = count_ids_errors(strand, original_sequence)\n",
    "    subsitutions.append(ids[\"Substitutions\"])\n",
    "    deletions.append(ids[\"Deletions\"])\n",
    "    insertions.append(ids[\"Insertions\"])\n",
    "    quality_score.append(\n",
    "        np.mean(record.letter_annotations[\"phred_quality\"]))\n",
    "    "
   ]
  },
  {
   "cell_type": "code",
   "execution_count": 74,
   "id": "3562ede0",
   "metadata": {},
   "outputs": [],
   "source": [
    "import pandas as pd\n",
    "\n",
    "df = pd.DataFrame({\n",
    "    \"subsitutions\": subsitutions,\n",
    "    \"insertions\": insertions,\n",
    "    \"quality\": quality_score\n",
    "    })"
   ]
  },
  {
   "cell_type": "code",
   "execution_count": 75,
   "id": "5e986691",
   "metadata": {},
   "outputs": [
    {
     "data": {
      "text/html": [
       "<div>\n",
       "<style scoped>\n",
       "    .dataframe tbody tr th:only-of-type {\n",
       "        vertical-align: middle;\n",
       "    }\n",
       "\n",
       "    .dataframe tbody tr th {\n",
       "        vertical-align: top;\n",
       "    }\n",
       "\n",
       "    .dataframe thead th {\n",
       "        text-align: right;\n",
       "    }\n",
       "</style>\n",
       "<table border=\"1\" class=\"dataframe\">\n",
       "  <thead>\n",
       "    <tr style=\"text-align: right;\">\n",
       "      <th></th>\n",
       "      <th>subsitutions</th>\n",
       "      <th>insertions</th>\n",
       "      <th>quality</th>\n",
       "    </tr>\n",
       "  </thead>\n",
       "  <tbody>\n",
       "    <tr>\n",
       "      <th>subsitutions</th>\n",
       "      <td>1.000000</td>\n",
       "      <td>0.329838</td>\n",
       "      <td>-0.217187</td>\n",
       "    </tr>\n",
       "    <tr>\n",
       "      <th>insertions</th>\n",
       "      <td>0.329838</td>\n",
       "      <td>1.000000</td>\n",
       "      <td>-0.166874</td>\n",
       "    </tr>\n",
       "    <tr>\n",
       "      <th>quality</th>\n",
       "      <td>-0.217187</td>\n",
       "      <td>-0.166874</td>\n",
       "      <td>1.000000</td>\n",
       "    </tr>\n",
       "  </tbody>\n",
       "</table>\n",
       "</div>"
      ],
      "text/plain": [
       "              subsitutions  insertions   quality\n",
       "subsitutions      1.000000    0.329838 -0.217187\n",
       "insertions        0.329838    1.000000 -0.166874\n",
       "quality          -0.217187   -0.166874  1.000000"
      ]
     },
     "execution_count": 75,
     "metadata": {},
     "output_type": "execute_result"
    }
   ],
   "source": [
    "df.corr()"
   ]
  },
  {
   "cell_type": "markdown",
   "id": "a920e415",
   "metadata": {},
   "source": [
    "1. Moderately, higher quality scores lead to lower subsitutions\n",
    "2. Very weakly, higher quality scores lead to lower insertions\n",
    "\n",
    "Let's check the other sequences"
   ]
  },
  {
   "cell_type": "code",
   "execution_count": 78,
   "id": "a08fc5e5",
   "metadata": {},
   "outputs": [],
   "source": [
    "# Average quality per/aligned base\n",
    "# Average prediction error (IDS)"
   ]
  }
 ],
 "metadata": {
  "kernelspec": {
   "display_name": "pytorch_gpu",
   "language": "python",
   "name": "python3"
  },
  "language_info": {
   "codemirror_mode": {
    "name": "ipython",
    "version": 3
   },
   "file_extension": ".py",
   "mimetype": "text/x-python",
   "name": "python",
   "nbconvert_exporter": "python",
   "pygments_lexer": "ipython3",
   "version": "3.12.3"
  }
 },
 "nbformat": 4,
 "nbformat_minor": 5
}
