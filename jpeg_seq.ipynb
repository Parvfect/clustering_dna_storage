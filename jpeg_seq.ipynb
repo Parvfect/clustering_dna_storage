{
 "cells": [
  {
   "cell_type": "markdown",
   "id": "e158fb97",
   "metadata": {},
   "source": [
    "### Evaluating sequencing results for JPEG experimental run"
   ]
  },
  {
   "cell_type": "code",
   "execution_count": 26,
   "id": "5dd94b84",
   "metadata": {},
   "outputs": [
    {
     "name": "stdout",
     "output_type": "stream",
     "text": [
      "The autoreload extension is already loaded. To reload it, use:\n",
      "  %reload_ext autoreload\n"
     ]
    }
   ],
   "source": [
    "%load_ext autoreload\n",
    "%autoreload 2"
   ]
  },
  {
   "cell_type": "code",
   "execution_count": 154,
   "id": "826ef400",
   "metadata": {},
   "outputs": [],
   "source": [
    "from utils import get_fastq_records, reverse_complement, create_fasta_file\n",
    "from clustering import Clustering\n",
    "from strand_reconstruction import align\n",
    "import matplotlib.pyplot as plt\n",
    "import pandas as pd\n",
    "from checksum import CheckSum4\n",
    "import uuid\n",
    "import os\n",
    "from tqdm import tqdm"
   ]
  },
  {
   "cell_type": "code",
   "execution_count": 152,
   "id": "93bebbf8",
   "metadata": {},
   "outputs": [],
   "source": [
    "filepath = r\"C:\\Users\\Parv\\Doc\\RA\\Projects\\sequencingData\\JPEGDNA\\270325_TWIST_PCR 1\\270325_TWIST_PCR\\fastq_pass\""
   ]
  },
  {
   "cell_type": "code",
   "execution_count": null,
   "id": "5bd8e581",
   "metadata": {},
   "outputs": [],
   "source": [
    "records = []"
   ]
  },
  {
   "cell_type": "code",
   "execution_count": 155,
   "id": "977638a1",
   "metadata": {},
   "outputs": [
    {
     "name": "stderr",
     "output_type": "stream",
     "text": [
      "999it [00:00, 26583.79it/s]0<?, ?it/s]\n",
      "1691it [00:00, 12118.79it/s]\n",
      "897it [00:00, 27340.84it/s]0<00:08, 10.81it/s]\n",
      "806it [00:00, 16918.86it/s]\n",
      "598it [00:00, 23327.91it/s]\n",
      "504it [00:00, 22270.41it/s]0<00:04, 17.66it/s]\n",
      "440it [00:00, 20927.52it/s]\n",
      "373it [00:00, 18354.85it/s]\n",
      "344it [00:00, 17497.25it/s]\n",
      "352it [00:00, 15971.39it/s]0<00:03, 25.73it/s]\n",
      "303it [00:00, 12038.33it/s]\n",
      "360it [00:00, 8130.60it/s]\n",
      "1615it [00:00, 29854.74it/s]0<00:02, 26.78it/s]\n",
      "635it [00:00, 24777.96it/s]\n",
      "594it [00:00, 22310.13it/s]\n",
      "513it [00:00, 21759.84it/s]00<00:02, 26.34it/s]\n",
      "429it [00:00, 17124.17it/s]\n",
      "512it [00:00, 22423.34it/s]\n",
      "469it [00:00, 19127.49it/s]\n",
      "424it [00:00, 17720.94it/s]00<00:02, 29.43it/s]\n",
      "429it [00:00, 20405.49it/s]\n",
      "290it [00:00, 13642.61it/s]\n",
      "453it [00:00, 12904.59it/s]\n",
      "1529it [00:00, 31473.13it/s]0<00:02, 31.10it/s]\n",
      "421it [00:00, 12732.47it/s]\n",
      "326it [00:00, 11229.27it/s]\n",
      "352it [00:00, 17580.11it/s]\n",
      "377it [00:00, 19552.05it/s]01<00:02, 29.71it/s]\n",
      "318it [00:00, 16907.80it/s]\n",
      "250it [00:00, 13128.53it/s]\n",
      "259it [00:00, 15653.32it/s]\n",
      "199it [00:00, 12672.38it/s]\n",
      "177it [00:00, 12554.19it/s]01<00:01, 34.21it/s]\n",
      "212it [00:00, 14970.07it/s]\n",
      "1515it [00:00, 29841.55it/s]\n",
      "276it [00:00, 16707.72it/s]\n",
      "256it [00:00, 15651.76it/s]01<00:01, 34.59it/s]\n",
      "209it [00:00, 8081.73it/s]\n",
      "311it [00:00, 15935.84it/s]\n",
      "249it [00:00, 15259.37it/s]\n",
      "155it [00:00, 10643.18it/s]\n",
      "184it [00:00, 13010.64it/s]01<00:01, 37.54it/s]\n",
      "238it [00:00, 7547.08it/s]\n",
      "469it [00:00, 24021.89it/s]\n",
      "486it [00:00, 21952.61it/s]\n",
      "1672it [00:00, 21904.01it/s]1<00:01, 37.81it/s]\n",
      "497it [00:00, 13759.17it/s]\n",
      "431it [00:00, 19551.22it/s]\n",
      "359it [00:00, 19575.09it/s]\n",
      "314it [00:00, 15538.31it/s]01<00:01, 32.31it/s]\n",
      "287it [00:00, 8074.46it/s]\n",
      "342it [00:00, 18247.01it/s]\n",
      "260it [00:00, 15736.43it/s]\n",
      "170it [00:00, 9429.27it/s]:01<00:01, 33.83it/s]\n",
      "225it [00:00, 14467.77it/s]\n",
      "197it [00:00, 14539.47it/s]\n",
      "1467it [00:00, 32156.81it/s]\n",
      "183it [00:00, 12609.79it/s]01<00:00, 34.69it/s]\n",
      "200it [00:00, 11409.66it/s]\n",
      "174it [00:00, 13839.44it/s]\n",
      "132it [00:00, 9753.34it/s]\n",
      "138it [00:00, 10441.69it/s]\n",
      "164it [00:00, 11679.93it/s]\n",
      "106it [00:00, 8465.27it/s]:01<00:00, 40.59it/s]\n",
      "249it [00:00, 13509.19it/s]\n",
      "172it [00:00, 11835.49it/s]\n",
      "196it [00:00, 12521.26it/s]\n",
      "1424it [00:00, 31925.17it/s]\n",
      "139it [00:00, 6077.24it/s]:02<00:00, 40.63it/s]\n",
      "147it [00:00, 10131.67it/s]\n",
      "108it [00:00, 8619.09it/s]\n",
      "109it [00:00, 8682.87it/s]\n",
      "87it [00:00, 7552.14it/s]\n",
      "24it [00:00, 23921.89it/s]\n",
      "147it [00:00, 10863.78it/s]\n",
      "172it [00:00, 11877.77it/s]02<00:00, 46.38it/s]\n",
      "194it [00:00, 12087.15it/s]\n",
      "165it [00:00, 12209.52it/s]\n",
      "1506it [00:00, 32768.00it/s]\n",
      "200it [00:00, 13296.89it/s]\n",
      "168it [00:00, 37145.13it/s]02<00:00, 44.36it/s]\n",
      "180it [00:00, 5324.79it/s]\n",
      "177it [00:00, 5677.25it/s]\n",
      "164it [00:00, 6174.46it/s]\n",
      "116it [00:00, 10062.03it/s]\n",
      "193it [00:00, 12815.65it/s]02<00:00, 42.52it/s]\n",
      "226it [00:00, 14702.48it/s]\n",
      "242it [00:00, 14645.72it/s]\n",
      "175it [00:00, 10585.87it/s]\n",
      "906it [00:00, 27990.66it/s]\n",
      "14it [00:00, 1330.89it/s]0:02<00:00, 43.02it/s]\n",
      "100%|██████████| 91/91 [00:02<00:00, 35.68it/s]\n"
     ]
    }
   ],
   "source": [
    "for file in tqdm(os.listdir(filepath)):\n",
    "    records.extend(get_fastq_records(os.path.join(filepath, file)))"
   ]
  },
  {
   "cell_type": "code",
   "execution_count": 161,
   "id": "2127266d",
   "metadata": {},
   "outputs": [],
   "source": [
    "strand_pool = [str(i.seq) for i in records]\n",
    "strand_ids = [str(i.id) for i in records]"
   ]
  },
  {
   "cell_type": "code",
   "execution_count": 165,
   "id": "d5e54ed7",
   "metadata": {},
   "outputs": [],
   "source": [
    "# Removing adapters and filtering length\n",
    "front_adapter = 'CATGAAGTGGAGTAGCGGCG'\n",
    "reverse_adapter = 'GCGACCGATGCTCACTGATC'\n",
    "\n",
    "rev_front = reverse_complement(reverse_adapter)\n",
    "rev_back = reverse_complement(front_adapter)\n",
    "\n",
    "cleaned_strand_pool = []\n",
    "cleaned_strand_ids = []\n",
    "\n",
    "for ind, i in enumerate(strand_pool):\n",
    "    \n",
    "    if front_adapter in i[:20]:\n",
    "        if reverse_adapter in i[-21:]:\n",
    "            cleaned_strand = i[20: -21]\n",
    "            \n",
    "            if len(cleaned_strand) > 200 and len(cleaned_strand) < 230:\n",
    "                cleaned_strand_pool.append(cleaned_strand)\n",
    "                cleaned_strand_ids.append(strand_ids[ind])\n",
    "    if rev_front in i[:20]:\n",
    "        if rev_back in i[-21:]:\n",
    "            cleaned_strand = reverse_complement(i[20:-21])\n",
    "            if len(cleaned_strand) > 200 and len(cleaned_strand) < 230:\n",
    "                cleaned_strand_pool.append(cleaned_strand)\n",
    "                cleaned_strand_ids.append(strand_ids[ind])"
   ]
  },
  {
   "cell_type": "code",
   "execution_count": 169,
   "id": "074122ff",
   "metadata": {},
   "outputs": [],
   "source": [
    "obj = Clustering(strand_pool=cleaned_strand_pool, reference_length=208, strand_pool_ids=strand_ids, front_adapter=front_adapter, reverse_adapter=reverse_adapter, n_reference_strands=800)"
   ]
  },
  {
   "cell_type": "code",
   "execution_count": 170,
   "id": "6ff41642",
   "metadata": {},
   "outputs": [
    {
     "name": "stdout",
     "output_type": "stream",
     "text": [
      "Filtering strands by length\n",
      "0.18230659025787965 strands filtered out\n",
      "Clustering strands\n",
      "Total strands 6849\n"
     ]
    },
    {
     "name": "stderr",
     "output_type": "stream",
     "text": [
      "100%|██████████| 6849/6849 [00:20<00:00, 328.55it/s]\n"
     ]
    },
    {
     "name": "stdout",
     "output_type": "stream",
     "text": [
      "Number of clusters = 966\n",
      "Clusters are sorted\n",
      "Orientation fixed in the strand pool\n",
      "Generating 1000 candidates\n"
     ]
    },
    {
     "name": "stderr",
     "output_type": "stream",
     "text": [
      "100%|██████████| 850/850 [01:07<00:00, 12.68it/s]\n"
     ]
    },
    {
     "name": "stdout",
     "output_type": "stream",
     "text": [
      "Evaluating candidates\n"
     ]
    },
    {
     "name": "stderr",
     "output_type": "stream",
     "text": [
      "0it [00:00, ?it/s]\n"
     ]
    },
    {
     "ename": "IndexError",
     "evalue": "index 0 is out of bounds for axis 0 with size 0",
     "output_type": "error",
     "traceback": [
      "\u001b[1;31m---------------------------------------------------------------------------\u001b[0m",
      "\u001b[1;31mIndexError\u001b[0m                                Traceback (most recent call last)",
      "Cell \u001b[1;32mIn[170], line 1\u001b[0m\n\u001b[1;32m----> 1\u001b[0m \u001b[43mobj\u001b[49m\u001b[38;5;241;43m.\u001b[39;49m\u001b[43mrun_pipeline\u001b[49m\u001b[43m(\u001b[49m\u001b[43mremove_adapters\u001b[49m\u001b[38;5;241;43m=\u001b[39;49m\u001b[38;5;28;43;01mFalse\u001b[39;49;00m\u001b[43m)\u001b[49m\n",
      "File \u001b[1;32mc:\\Users\\Parv\\Doc\\RA\\Projects\\clustering_dna_storage\\clustering.py:200\u001b[0m, in \u001b[0;36mClustering.run_pipeline\u001b[1;34m(self, fsm, fix_orientation, remove_adapters)\u001b[0m\n\u001b[0;32m    197\u001b[0m \u001b[38;5;28mself\u001b[39m\u001b[38;5;241m.\u001b[39mgenerate_candidates(n_candidates\u001b[38;5;241m=\u001b[39m\u001b[38;5;28mself\u001b[39m\u001b[38;5;241m.\u001b[39mn_reference_strands \u001b[38;5;241m+\u001b[39m \u001b[38;5;241m50\u001b[39m, fix_orientation\u001b[38;5;241m=\u001b[39mfix_orientation)\n\u001b[0;32m    199\u001b[0m \u001b[38;5;28mprint\u001b[39m(\u001b[38;5;124m\"\u001b[39m\u001b[38;5;124mEvaluating candidates\u001b[39m\u001b[38;5;124m\"\u001b[39m)\n\u001b[1;32m--> 200\u001b[0m \u001b[38;5;28;43mself\u001b[39;49m\u001b[38;5;241;43m.\u001b[39;49m\u001b[43mevaluate_candidates\u001b[49m\u001b[43m(\u001b[49m\u001b[43mcandidates\u001b[49m\u001b[38;5;241;43m=\u001b[39;49m\u001b[38;5;28;43mself\u001b[39;49m\u001b[38;5;241;43m.\u001b[39;49m\u001b[43mcandidates\u001b[49m\u001b[43m,\u001b[49m\u001b[43m \u001b[49m\u001b[43mhist\u001b[49m\u001b[38;5;241;43m=\u001b[39;49m\u001b[38;5;28;43;01mTrue\u001b[39;49;00m\u001b[43m)\u001b[49m\n\u001b[0;32m    202\u001b[0m \u001b[38;5;28;01mif\u001b[39;00m fsm:\n\u001b[0;32m    203\u001b[0m     \u001b[38;5;28mprint\u001b[39m(\n\u001b[0;32m    204\u001b[0m         \u001b[38;5;124m\"\u001b[39m\u001b[38;5;124mCheck back to see if this feature is implemented!\u001b[39m\u001b[38;5;124m\"\u001b[39m)\n",
      "File \u001b[1;32mc:\\Users\\Parv\\Doc\\RA\\Projects\\clustering_dna_storage\\clustering.py:135\u001b[0m, in \u001b[0;36mClustering.evaluate_candidates\u001b[1;34m(self, candidates, hist, metric)\u001b[0m\n\u001b[0;32m    131\u001b[0m \u001b[38;5;28;01mdef\u001b[39;00m \u001b[38;5;21mevaluate_candidates\u001b[39m(\n\u001b[0;32m    132\u001b[0m         \u001b[38;5;28mself\u001b[39m, candidates: List[\u001b[38;5;28mstr\u001b[39m] \u001b[38;5;241m=\u001b[39m \u001b[38;5;28;01mNone\u001b[39;00m, hist: \u001b[38;5;28mbool\u001b[39m \u001b[38;5;241m=\u001b[39m \u001b[38;5;28;01mFalse\u001b[39;00m, metric: \u001b[38;5;28mstr\u001b[39m \u001b[38;5;241m=\u001b[39m \u001b[38;5;124m\"\u001b[39m\u001b[38;5;124midentity\u001b[39m\u001b[38;5;124m\"\u001b[39m) \u001b[38;5;241m-\u001b[39m\u001b[38;5;241m>\u001b[39m Dict[\u001b[38;5;28mstr\u001b[39m, np\u001b[38;5;241m.\u001b[39mndarray]:\n\u001b[0;32m    134\u001b[0m     \u001b[38;5;28;01mif\u001b[39;00m candidates:\n\u001b[1;32m--> 135\u001b[0m         \u001b[38;5;28mself\u001b[39m\u001b[38;5;241m.\u001b[39mevaluation_dict \u001b[38;5;241m=\u001b[39m \u001b[43mevaluate_candidates\u001b[49m\u001b[43m(\u001b[49m\n\u001b[0;32m    136\u001b[0m \u001b[43m            \u001b[49m\u001b[43moriginal_strands\u001b[49m\u001b[38;5;241;43m=\u001b[39;49m\u001b[38;5;28;43mself\u001b[39;49m\u001b[38;5;241;43m.\u001b[39;49m\u001b[43moriginal_strands\u001b[49m\u001b[43m,\u001b[49m\n\u001b[0;32m    137\u001b[0m \u001b[43m            \u001b[49m\u001b[43mcandidates\u001b[49m\u001b[38;5;241;43m=\u001b[39;49m\u001b[43mcandidates\u001b[49m\u001b[43m,\u001b[49m\n\u001b[0;32m    138\u001b[0m \u001b[43m            \u001b[49m\u001b[43mmetric\u001b[49m\u001b[38;5;241;43m=\u001b[39;49m\u001b[43mmetric\u001b[49m\n\u001b[0;32m    139\u001b[0m \u001b[43m        \u001b[49m\u001b[43m)\u001b[49m\n\u001b[0;32m    140\u001b[0m     \u001b[38;5;28;01melse\u001b[39;00m:\n\u001b[0;32m    141\u001b[0m         \u001b[38;5;28mself\u001b[39m\u001b[38;5;241m.\u001b[39mevaluation_dict \u001b[38;5;241m=\u001b[39m evaluate_candidates(\n\u001b[0;32m    142\u001b[0m             original_strands\u001b[38;5;241m=\u001b[39m\u001b[38;5;28mself\u001b[39m\u001b[38;5;241m.\u001b[39moriginal_strands,\n\u001b[0;32m    143\u001b[0m             candidates\u001b[38;5;241m=\u001b[39m\u001b[38;5;28mself\u001b[39m\u001b[38;5;241m.\u001b[39mcandidates,\n\u001b[0;32m    144\u001b[0m             metric\u001b[38;5;241m=\u001b[39mmetric\n\u001b[0;32m    145\u001b[0m         )\n",
      "File \u001b[1;32mc:\\Users\\Parv\\Doc\\RA\\Projects\\clustering_dna_storage\\evaluation.py:74\u001b[0m, in \u001b[0;36mevaluate_candidates\u001b[1;34m(original_strands, candidates, metric)\u001b[0m\n\u001b[0;32m     71\u001b[0m                 best_recovery, best_matching_index \u001b[38;5;241m=\u001b[39m recovery, ind_                                          \n\u001b[0;32m     73\u001b[0m         reference_strand_indices[ind] \u001b[38;5;241m=\u001b[39m best_matching_index\n\u001b[1;32m---> 74\u001b[0m         \u001b[43mreference_recoveries\u001b[49m\u001b[43m[\u001b[49m\u001b[43mbest_matching_index\u001b[49m\u001b[43m]\u001b[49m \u001b[38;5;241m=\u001b[39m best_recovery\n\u001b[0;32m     75\u001b[0m         recovery_rates[ind] \u001b[38;5;241m=\u001b[39m best_recovery\n\u001b[0;32m     77\u001b[0m \u001b[38;5;28;01mreturn\u001b[39;00m {\n\u001b[0;32m     78\u001b[0m     \u001b[38;5;124m'\u001b[39m\u001b[38;5;124mreference_recoveries\u001b[39m\u001b[38;5;124m'\u001b[39m: reference_recoveries,\n\u001b[0;32m     79\u001b[0m     \u001b[38;5;124m'\u001b[39m\u001b[38;5;124mreference_strand_indices\u001b[39m\u001b[38;5;124m'\u001b[39m: reference_strand_indices,\n\u001b[0;32m     80\u001b[0m     \u001b[38;5;124m'\u001b[39m\u001b[38;5;124mrecovery_rates\u001b[39m\u001b[38;5;124m'\u001b[39m: recovery_rates\n\u001b[0;32m     81\u001b[0m }\n",
      "\u001b[1;31mIndexError\u001b[0m: index 0 is out of bounds for axis 0 with size 0"
     ]
    }
   ],
   "source": [
    "obj.run_pipeline(remove_adapters=False)"
   ]
  },
  {
   "cell_type": "code",
   "execution_count": 59,
   "id": "96727b8b",
   "metadata": {},
   "outputs": [
    {
     "data": {
      "text/plain": [
       "'CATGAAGTGGAGTAGCGGCGCATGGAGTGGATAACTGCGGTAACTGATCCACCATGTCTCATAGGTCAACGTACTAGAGGGCTTACCTAAGGCGAACCTTAGCATTTATCAGAGTGAGCCGAGCATTGATTAGACCTATGAGACATGGTGGATCAGTTACCGCAGTTATCCCACTCCATGCGCCACTACTCCACTCATGA'"
      ]
     },
     "execution_count": 59,
     "metadata": {},
     "output_type": "execute_result"
    }
   ],
   "source": [
    "strand_pool[7]"
   ]
  },
  {
   "cell_type": "code",
   "execution_count": null,
   "id": "9d842519",
   "metadata": {},
   "outputs": [
    {
     "data": {
      "text/plain": [
       "'CATGAAGTGGAGTAGCGGCG'"
      ]
     },
     "execution_count": 50,
     "metadata": {},
     "output_type": "execute_result"
    }
   ],
   "source": [
    "front_adapter"
   ]
  },
  {
   "cell_type": "code",
   "execution_count": 92,
   "id": "a12a4a9f",
   "metadata": {},
   "outputs": [],
   "source": [
    "df = pd.read_csv(r\"C:\\Users\\Parv\\Doc\\RA\\Projects\\sequencingData\\JPEGDNA\\cat_FFDX_checksum.csv\")"
   ]
  },
  {
   "cell_type": "code",
   "execution_count": 107,
   "id": "ce5eb082",
   "metadata": {},
   "outputs": [
    {
     "data": {
      "text/plain": [
       "1031"
      ]
     },
     "execution_count": 107,
     "metadata": {},
     "output_type": "execute_result"
    }
   ],
   "source": [
    "len(original_strands)"
   ]
  },
  {
   "cell_type": "code",
   "execution_count": 98,
   "id": "86175c44",
   "metadata": {},
   "outputs": [],
   "source": [
    "check = CheckSum4(reference_length=204)"
   ]
  },
  {
   "cell_type": "code",
   "execution_count": 171,
   "id": "26569f70",
   "metadata": {},
   "outputs": [
    {
     "data": {
      "text/plain": [
       "386"
      ]
     },
     "execution_count": 171,
     "metadata": {},
     "output_type": "execute_result"
    }
   ],
   "source": [
    "len(set(obj.candidates).intersection(set(original_strands)))"
   ]
  },
  {
   "cell_type": "code",
   "execution_count": 173,
   "id": "6c9251f3",
   "metadata": {},
   "outputs": [
    {
     "name": "stderr",
     "output_type": "stream",
     "text": [
      "100%|██████████| 850/850 [00:00<00:00, 16185.77it/s]\n"
     ]
    },
    {
     "name": "stdout",
     "output_type": "stream",
     "text": [
      "394 direct checksum matches found\n",
      "Making guesses\n"
     ]
    },
    {
     "name": "stderr",
     "output_type": "stream",
     "text": [
      "100%|██████████| 456/456 [02:09<00:00,  3.51it/s]"
     ]
    },
    {
     "name": "stdout",
     "output_type": "stream",
     "text": [
      "26 extra found after guessing\n",
      "0.002380952380952381 were reversed\n",
      "420 Valid checksum strands found\n"
     ]
    },
    {
     "name": "stderr",
     "output_type": "stream",
     "text": [
      "\n"
     ]
    }
   ],
   "source": [
    "decoded_strands = check.decode(obj.candidates, n_reference_strands=1031, clustered_seqs=obj.clustered_seqs, n_guesses=5, guesses=True)"
   ]
  },
  {
   "cell_type": "code",
   "execution_count": 133,
   "id": "b2a076b5",
   "metadata": {},
   "outputs": [],
   "source": [
    "original_strands_ = [i[:-4] for i in original_strands]"
   ]
  },
  {
   "cell_type": "code",
   "execution_count": 135,
   "id": "8a377a88",
   "metadata": {},
   "outputs": [
    {
     "data": {
      "text/plain": [
       "882"
      ]
     },
     "execution_count": 135,
     "metadata": {},
     "output_type": "execute_result"
    }
   ],
   "source": [
    "len(set(decoded_strands).intersection(set(original_strands_)))"
   ]
  },
  {
   "cell_type": "code",
   "execution_count": 140,
   "id": "ad0f74f5",
   "metadata": {},
   "outputs": [
    {
     "data": {
      "text/plain": [
       "1031"
      ]
     },
     "execution_count": 140,
     "metadata": {},
     "output_type": "execute_result"
    }
   ],
   "source": [
    "len(original_strands)"
   ]
  },
  {
   "cell_type": "code",
   "execution_count": 145,
   "id": "5c038460",
   "metadata": {},
   "outputs": [
    {
     "name": "stdout",
     "output_type": "stream",
     "text": [
      "File saved as C:\\Users\\Parv\\Doc\\RA\\Projects\\sequencingData\\JPEGDNA\\1_Twist_decoded.fasta\n"
     ]
    }
   ],
   "source": [
    "create_fasta_file(ids=[str(uuid.uuid4()) for i in range(len(decoded_strands))], strands=decoded_strands, output_filepath=r\"C:\\Users\\Parv\\Doc\\RA\\Projects\\sequencingData\\JPEGDNA\\1_Twist_decoded.fasta\")"
   ]
  },
  {
   "cell_type": "code",
   "execution_count": null,
   "id": "e0fbeb14",
   "metadata": {},
   "outputs": [],
   "source": []
  }
 ],
 "metadata": {
  "kernelspec": {
   "display_name": "pytorch_gpu",
   "language": "python",
   "name": "python3"
  },
  "language_info": {
   "codemirror_mode": {
    "name": "ipython",
    "version": 3
   },
   "file_extension": ".py",
   "mimetype": "text/x-python",
   "name": "python",
   "nbconvert_exporter": "python",
   "pygments_lexer": "ipython3",
   "version": "3.12.3"
  }
 },
 "nbformat": 4,
 "nbformat_minor": 5
}
