{
 "cells": [
  {
   "cell_type": "code",
   "execution_count": 1,
   "id": "b1fbc099",
   "metadata": {},
   "outputs": [],
   "source": [
    "import matplotlib.pyplot as plt\n",
    "import numpy as np\n",
    "import math"
   ]
  },
  {
   "cell_type": "code",
   "execution_count": 2,
   "id": "18537b72",
   "metadata": {},
   "outputs": [],
   "source": [
    "xs = np.arange(0.001, 0.15, 0.0001)"
   ]
  },
  {
   "cell_type": "code",
   "execution_count": 25,
   "id": "5217098b",
   "metadata": {},
   "outputs": [],
   "source": [
    "no_cap = lambda x, L: (x * ((L))) ** 2"
   ]
  },
  {
   "cell_type": "code",
   "execution_count": 28,
   "id": "fcfcbdd7",
   "metadata": {},
   "outputs": [
    {
     "data": {
      "text/plain": [
       "324.0"
      ]
     },
     "execution_count": 28,
     "metadata": {},
     "output_type": "execute_result"
    }
   ],
   "source": [
    "no_cap(0.09, 200)"
   ]
  },
  {
   "cell_type": "code",
   "execution_count": 35,
   "id": "27c34223",
   "metadata": {},
   "outputs": [
    {
     "data": {
      "text/plain": [
       "324.0"
      ]
     },
     "execution_count": 35,
     "metadata": {},
     "output_type": "execute_result"
    }
   ],
   "source": [
    "(200 * 0.09) ** 2"
   ]
  },
  {
   "cell_type": "code",
   "execution_count": 75,
   "id": "2c409033",
   "metadata": {},
   "outputs": [],
   "source": [
    "xs = np.arange(0, 0.1, 0.01)"
   ]
  },
  {
   "cell_type": "code",
   "execution_count": 15,
   "id": "e5413df8",
   "metadata": {},
   "outputs": [],
   "source": [
    "capping_scaling = lambda x, L: 1/(1 - x)**L\n",
    "no_capping_scaling_avg = lambda x, L: (L * x) ** 2.8\n",
    "no_capping_scaling_worst = lambda x, L : math.exp(L**(1/3)/(1 - x)**3)\n",
    "no_capping_scaling_best = lambda x, L : math.exp()"
   ]
  },
  {
   "cell_type": "code",
   "execution_count": null,
   "id": "d2673a3a",
   "metadata": {},
   "outputs": [],
   "source": [
    "bitwise_maj = lambda L, p: L * p * (1-p)  # best case - lower bound"
   ]
  },
  {
   "cell_type": "code",
   "execution_count": 81,
   "id": "dde4ab65",
   "metadata": {},
   "outputs": [
    {
     "data": {
      "text/plain": [
       "1417418549.9538512"
      ]
     },
     "execution_count": 81,
     "metadata": {},
     "output_type": "execute_result"
    }
   ],
   "source": [
    "1/0.9**200"
   ]
  },
  {
   "cell_type": "code",
   "execution_count": 96,
   "id": "636dfba0",
   "metadata": {},
   "outputs": [
    {
     "data": {
      "text/plain": [
       "array([ 0.  ,  1.98,  3.92,  5.82,  7.68,  9.5 , 11.28, 13.02, 14.72,\n",
       "       16.38])"
      ]
     },
     "execution_count": 96,
     "metadata": {},
     "output_type": "execute_result"
    }
   ],
   "source": [
    "bitwise_maj(200, xs)"
   ]
  },
  {
   "cell_type": "code",
   "execution_count": 85,
   "id": "0ef65490",
   "metadata": {},
   "outputs": [
    {
     "data": {
      "text/plain": [
       "3420.0"
      ]
     },
     "execution_count": 85,
     "metadata": {},
     "output_type": "execute_result"
    }
   ],
   "source": [
    "18 * 200 * (0.95)"
   ]
  },
  {
   "cell_type": "code",
   "execution_count": 87,
   "id": "201b24fc",
   "metadata": {},
   "outputs": [
    {
     "data": {
      "text/plain": [
       "3154.0"
      ]
     },
     "execution_count": 87,
     "metadata": {},
     "output_type": "execute_result"
    }
   ],
   "source": [
    "(66500 - 3420) * 0.05"
   ]
  },
  {
   "cell_type": "code",
   "execution_count": 77,
   "id": "f6be16e6",
   "metadata": {},
   "outputs": [
    {
     "data": {
      "text/plain": [
       "array([1.00000000e+00, 7.46381868e+00, 5.68571205e+01, 4.42235036e+02,\n",
       "       3.51360869e+03, 2.85285003e+04, 2.36825946e+05, 2.01099175e+06,\n",
       "       1.74756980e+07, 1.55496829e+08])"
      ]
     },
     "execution_count": 77,
     "metadata": {},
     "output_type": "execute_result"
    }
   ],
   "source": [
    "capping_scaling(xs, 200)"
   ]
  },
  {
   "cell_type": "code",
   "execution_count": 64,
   "id": "171fa7c1",
   "metadata": {},
   "outputs": [],
   "source": [
    "capping_nt = lambda x, L: (1-x) / x if (1-x) / x < L else L\n",
    "no_capping_nt = lambda x, L : L * (1-x) "
   ]
  },
  {
   "cell_type": "code",
   "execution_count": 16,
   "id": "d6efc390",
   "metadata": {},
   "outputs": [],
   "source": [
    "capped_200 = np.array([capping_scaling(i, 200) for i in xs])\n",
    "no_capped_200_avg = np.array([no_capping_scaling_avg(i, 200) for i in xs])\n",
    "no_capped_200_worst = np.array([no_capping_scaling_worst(i, 200) for i in xs])"
   ]
  },
  {
   "cell_type": "code",
   "execution_count": 5,
   "id": "1b3b757f",
   "metadata": {},
   "outputs": [
    {
     "ename": "NameError",
     "evalue": "name 'capping_nt' is not defined",
     "output_type": "error",
     "traceback": [
      "\u001b[1;31m---------------------------------------------------------------------------\u001b[0m",
      "\u001b[1;31mNameError\u001b[0m                                 Traceback (most recent call last)",
      "\u001b[1;32m<ipython-input-5-1ff431d9d46f>\u001b[0m in \u001b[0;36m<module>\u001b[1;34m\u001b[0m\n\u001b[1;32m----> 1\u001b[1;33m \u001b[0mcapped_nt\u001b[0m \u001b[1;33m=\u001b[0m \u001b[0mnp\u001b[0m\u001b[1;33m.\u001b[0m\u001b[0marray\u001b[0m\u001b[1;33m(\u001b[0m\u001b[1;33m[\u001b[0m\u001b[0mcapping_nt\u001b[0m\u001b[1;33m(\u001b[0m\u001b[0mi\u001b[0m\u001b[1;33m,\u001b[0m \u001b[1;36m200\u001b[0m\u001b[1;33m)\u001b[0m \u001b[1;32mfor\u001b[0m \u001b[0mi\u001b[0m \u001b[1;32min\u001b[0m \u001b[0mxs\u001b[0m\u001b[1;33m]\u001b[0m\u001b[1;33m)\u001b[0m\u001b[1;33m\u001b[0m\u001b[1;33m\u001b[0m\u001b[0m\n\u001b[0m\u001b[0;32m      2\u001b[0m \u001b[0mnc_nt\u001b[0m \u001b[1;33m=\u001b[0m \u001b[0mnp\u001b[0m\u001b[1;33m.\u001b[0m\u001b[0marray\u001b[0m\u001b[1;33m(\u001b[0m\u001b[1;33m[\u001b[0m\u001b[0mno_capping_nt\u001b[0m\u001b[1;33m(\u001b[0m\u001b[0mi\u001b[0m\u001b[1;33m,\u001b[0m \u001b[1;36m200\u001b[0m\u001b[1;33m)\u001b[0m \u001b[1;32mfor\u001b[0m \u001b[0mi\u001b[0m \u001b[1;32min\u001b[0m \u001b[0mxs\u001b[0m\u001b[1;33m]\u001b[0m\u001b[1;33m)\u001b[0m\u001b[1;33m\u001b[0m\u001b[1;33m\u001b[0m\u001b[0m\n",
      "\u001b[1;32m<ipython-input-5-1ff431d9d46f>\u001b[0m in \u001b[0;36m<listcomp>\u001b[1;34m(.0)\u001b[0m\n\u001b[1;32m----> 1\u001b[1;33m \u001b[0mcapped_nt\u001b[0m \u001b[1;33m=\u001b[0m \u001b[0mnp\u001b[0m\u001b[1;33m.\u001b[0m\u001b[0marray\u001b[0m\u001b[1;33m(\u001b[0m\u001b[1;33m[\u001b[0m\u001b[0mcapping_nt\u001b[0m\u001b[1;33m(\u001b[0m\u001b[0mi\u001b[0m\u001b[1;33m,\u001b[0m \u001b[1;36m200\u001b[0m\u001b[1;33m)\u001b[0m \u001b[1;32mfor\u001b[0m \u001b[0mi\u001b[0m \u001b[1;32min\u001b[0m \u001b[0mxs\u001b[0m\u001b[1;33m]\u001b[0m\u001b[1;33m)\u001b[0m\u001b[1;33m\u001b[0m\u001b[1;33m\u001b[0m\u001b[0m\n\u001b[0m\u001b[0;32m      2\u001b[0m \u001b[0mnc_nt\u001b[0m \u001b[1;33m=\u001b[0m \u001b[0mnp\u001b[0m\u001b[1;33m.\u001b[0m\u001b[0marray\u001b[0m\u001b[1;33m(\u001b[0m\u001b[1;33m[\u001b[0m\u001b[0mno_capping_nt\u001b[0m\u001b[1;33m(\u001b[0m\u001b[0mi\u001b[0m\u001b[1;33m,\u001b[0m \u001b[1;36m200\u001b[0m\u001b[1;33m)\u001b[0m \u001b[1;32mfor\u001b[0m \u001b[0mi\u001b[0m \u001b[1;32min\u001b[0m \u001b[0mxs\u001b[0m\u001b[1;33m]\u001b[0m\u001b[1;33m)\u001b[0m\u001b[1;33m\u001b[0m\u001b[1;33m\u001b[0m\u001b[0m\n",
      "\u001b[1;31mNameError\u001b[0m: name 'capping_nt' is not defined"
     ]
    }
   ],
   "source": [
    "capped_nt = np.array([capping_nt(i, 200) for i in xs])\n",
    "nc_nt = np.array([no_capping_nt(i, 200) for i in xs])"
   ]
  },
  {
   "cell_type": "code",
   "execution_count": 70,
   "id": "de47a06f",
   "metadata": {},
   "outputs": [],
   "source": [
    "capped_200 *= capped_nt\n",
    "no_capped_200_avg *= nc_nt\n",
    "no_capped_200_worst *= nc_nt"
   ]
  },
  {
   "cell_type": "code",
   "execution_count": 17,
   "id": "e9d9609d",
   "metadata": {},
   "outputs": [
    {
     "data": {
      "text/plain": [
       "Text(0, 0.5, 'Strands required for reconstruction')"
      ]
     },
     "execution_count": 17,
     "metadata": {},
     "output_type": "execute_result"
    },
    {
     "data": {
      "image/png": "[encoded data removed]",
      "text/plain": [
       "<Figure size 432x288 with 1 Axes>"
      ]
     },
     "metadata": {
      "needs_background": "light"
     },
     "output_type": "display_data"
    }
   ],
   "source": [
    "plt.semilogy(xs, capped_200, label=\"capping\")\n",
    "plt.semilogy(xs, no_capped_200_avg, label=\"no_capping\")\n",
    "#plt.semilogy(xs, no_capped_200_worst, label=\"no_capping_worst\")\n",
    "plt.legend()\n",
    "plt.title(\"Comparing capping and no capping reconstruction\")\n",
    "plt.xlabel(\"Deletion rate\")\n",
    "plt.ylabel(\"Strands required for reconstruction\")\n"
   ]
  },
  {
   "cell_type": "code",
   "execution_count": 93,
   "id": "ee8cc5ef",
   "metadata": {},
   "outputs": [
    {
     "data": {
      "text/plain": [
       "990.0"
      ]
     },
     "execution_count": 93,
     "metadata": {},
     "output_type": "execute_result"
    }
   ],
   "source": [
    "5 * (200)*0.99"
   ]
  },
  {
   "cell_type": "code",
   "execution_count": 94,
   "id": "bcc41f6b",
   "metadata": {},
   "outputs": [
    {
     "data": {
      "text/plain": [
       "28528.50031153951"
      ]
     },
     "execution_count": 94,
     "metadata": {},
     "output_type": "execute_result"
    }
   ],
   "source": [
    "1/ (0.95) ** 200"
   ]
  },
  {
   "cell_type": "code",
   "execution_count": 89,
   "id": "2259c072",
   "metadata": {},
   "outputs": [
    {
     "data": {
      "text/plain": [
       "7.463818680409159"
      ]
     },
     "execution_count": 89,
     "metadata": {},
     "output_type": "execute_result"
    }
   ],
   "source": [
    "1/(0.99)**200"
   ]
  },
  {
   "cell_type": "code",
   "execution_count": 5,
   "id": "66868f06",
   "metadata": {},
   "outputs": [
    {
     "data": {
      "text/plain": [
       "160.0"
      ]
     },
     "execution_count": 5,
     "metadata": {},
     "output_type": "execute_result"
    }
   ],
   "source": [
    "0.8 * 200"
   ]
  },
  {
   "cell_type": "code",
   "execution_count": 6,
   "id": "5e9c706f",
   "metadata": {},
   "outputs": [
    {
     "data": {
      "text/plain": [
       "20.0"
      ]
     },
     "execution_count": 6,
     "metadata": {},
     "output_type": "execute_result"
    }
   ],
   "source": [
    "0.1  * 200"
   ]
  },
  {
   "cell_type": "code",
   "execution_count": 7,
   "id": "0197f0e3",
   "metadata": {},
   "outputs": [
    {
     "data": {
      "text/plain": [
       "180.0"
      ]
     },
     "execution_count": 7,
     "metadata": {},
     "output_type": "execute_result"
    }
   ],
   "source": [
    "200 - 0.1 * 200"
   ]
  },
  {
   "cell_type": "code",
   "execution_count": 8,
   "id": "99299a83",
   "metadata": {},
   "outputs": [],
   "source": [
    "import random\n",
    "import numpy as np\n",
    "import matplotlib.pyplot as plt"
   ]
  },
  {
   "cell_type": "code",
   "execution_count": 28,
   "id": "03889de0",
   "metadata": {},
   "outputs": [],
   "source": [
    "t = 0\n",
    "sub = []\n",
    "\n",
    "for i in range(200):\n",
    "    while True:\n",
    "        if random.random() > 0.95:\n",
    "            sub.append(t)\n",
    "            break\n",
    "        t += 1\n",
    "    t = 0"
   ]
  },
  {
   "cell_type": "code",
   "execution_count": 29,
   "id": "9d085de7",
   "metadata": {},
   "outputs": [
    {
     "data": {
      "text/plain": [
       "(array([65., 44., 42., 17., 11.,  8.,  6.,  2.,  3.,  2.]),\n",
       " array([ 0. ,  8.3, 16.6, 24.9, 33.2, 41.5, 49.8, 58.1, 66.4, 74.7, 83. ]),\n",
       " <BarContainer object of 10 artists>)"
      ]
     },
     "execution_count": 29,
     "metadata": {},
     "output_type": "execute_result"
    },
    {
     "data": {
      "image/png": "[encoded data removed]",
      "text/plain": [
       "<Figure size 432x288 with 1 Axes>"
      ]
     },
     "metadata": {
      "needs_background": "light"
     },
     "output_type": "display_data"
    }
   ],
   "source": [
    "plt.hist(sub)"
   ]
  },
  {
   "cell_type": "code",
   "execution_count": 30,
   "id": "d4cc87b4",
   "metadata": {},
   "outputs": [
    {
     "data": {
      "text/plain": [
       "18.53"
      ]
     },
     "execution_count": 30,
     "metadata": {},
     "output_type": "execute_result"
    }
   ],
   "source": [
    "np.mean(sub)"
   ]
  },
  {
   "cell_type": "code",
   "execution_count": 24,
   "id": "b0504055",
   "metadata": {},
   "outputs": [
    {
     "data": {
      "text/plain": [
       "0.0016000000000000003"
      ]
     },
     "execution_count": 24,
     "metadata": {},
     "output_type": "execute_result"
    }
   ],
   "source": [
    "0.2 ** 4"
   ]
  },
  {
   "cell_type": "markdown",
   "id": "d591489c",
   "metadata": {},
   "source": [
    "## Number of nucleotides per strand per deletion rate"
   ]
  },
  {
   "cell_type": "code",
   "execution_count": 55,
   "id": "da7e268f",
   "metadata": {},
   "outputs": [],
   "source": [
    "deletion_rates = np.arange(0.001, 0.5, 0.001)\n",
    "\n",
    "capping_nt = lambda x, L: (1-x) / x if (1-x) / x < L else L\n",
    "\n",
    "no_capping_nt = lambda x, L : L * (1-x) "
   ]
  },
  {
   "cell_type": "code",
   "execution_count": 56,
   "id": "1cf30b12",
   "metadata": {},
   "outputs": [],
   "source": [
    "capping_nt_needed = [capping_nt(i, 200) for i in deletion_rates]\n",
    "nc_nt_needed = [no_capping_nt(i, 200) for i in deletion_rates]"
   ]
  },
  {
   "cell_type": "code",
   "execution_count": 59,
   "id": "d05b7991",
   "metadata": {},
   "outputs": [
    {
     "data": {
      "image/png": "[encoded data removed]",
      "text/plain": [
       "<Figure size 432x288 with 1 Axes>"
      ]
     },
     "metadata": {
      "needs_background": "light"
     },
     "output_type": "display_data"
    }
   ],
   "source": [
    "plt.plot(deletion_rates, capping_nt_needed, label=\"Capping\")\n",
    "plt.plot(deletion_rates, nc_nt_needed, label=\"No Capping\")\n",
    "plt.title(\"Nucleotides per strand / deletion rate\")\n",
    "plt.legend()\n",
    "plt.show()"
   ]
  },
  {
   "cell_type": "markdown",
   "id": "0919a64e",
   "metadata": {},
   "source": [
    "Each no capping strand on average will require 10 times as many nucleotides"
   ]
  }
 ],
 "metadata": {
  "kernelspec": {
   "display_name": "base",
   "language": "python",
   "name": "python3"
  },
  "language_info": {
   "codemirror_mode": {
    "name": "ipython",
    "version": 3
   },
   "file_extension": ".py",
   "mimetype": "text/x-python",
   "name": "python",
   "nbconvert_exporter": "python",
   "pygments_lexer": "ipython3",
   "version": "3.8.8"
  }
 },
 "nbformat": 4,
 "nbformat_minor": 5
}
