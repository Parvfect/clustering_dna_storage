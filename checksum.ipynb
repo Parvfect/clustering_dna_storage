{
 "cells": [
  {
   "cell_type": "code",
   "execution_count": 50,
   "metadata": {},
   "outputs": [],
   "source": [
    "%load_ext autoreload\n",
    "%autoreload 2"
   ]
  },
  {
   "cell_type": "code",
   "execution_count": 60,
   "metadata": {},
   "outputs": [],
   "source": [
    "from utils import (\n",
    "    create_fasta_file, create_random_strand, reverse_complement,\n",
    "    read_synthesized_strands_from_file, get_fastq_records, get_badread_strand_id\n",
    ")\n",
    "from checksum import CheckSum4\n",
    "import random\n",
    "from clustering import Clustering\n",
    "import numpy as np\n",
    "from strand_reconstruction import align\n",
    "import sys\n",
    "np.set_printoptions(threshold=sys.maxsize)"
   ]
  },
  {
   "cell_type": "code",
   "execution_count": 2,
   "metadata": {},
   "outputs": [],
   "source": [
    "strand_length = 200\n",
    "n_strands = 1004\n",
    "\n",
    "strands = [create_random_strand(strand_length) for i in range(n_strands)]"
   ]
  },
  {
   "cell_type": "code",
   "execution_count": 80,
   "metadata": {},
   "outputs": [],
   "source": [
    "checksum = CheckSum4(reference_length=200)"
   ]
  },
  {
   "cell_type": "code",
   "execution_count": 4,
   "metadata": {},
   "outputs": [],
   "source": [
    "encoded_strands = checksum.encode(strands)"
   ]
  },
  {
   "cell_type": "code",
   "execution_count": 13,
   "metadata": {},
   "outputs": [],
   "source": [
    "# Read cat.fasta - add encoding\n",
    "# write fasta\n",
    "# badread\n",
    "# do clustering get candidates\n",
    "# decode without apriori"
   ]
  },
  {
   "cell_type": "code",
   "execution_count": 5,
   "metadata": {},
   "outputs": [],
   "source": [
    "original_strands, original_strand_ids = read_synthesized_strands_from_file(file_path=r\"C:\\Users\\Parv\\Doc\\RA\\Projects\\incomplete_cycles\\v2\\raptor_data\\cat.jpg_RU10 2.fasta\")"
   ]
  },
  {
   "cell_type": "code",
   "execution_count": 6,
   "metadata": {},
   "outputs": [],
   "source": [
    "encoded_strands = checksum.encode(original_strands)"
   ]
  },
  {
   "cell_type": "code",
   "execution_count": 7,
   "metadata": {},
   "outputs": [
    {
     "name": "stdout",
     "output_type": "stream",
     "text": [
      "File saved as cat_encoded.fasta\n"
     ]
    }
   ],
   "source": [
    "create_fasta_file(ids=original_strand_ids, strands=encoded_strands, output_filepath='cat_encoded.fasta')"
   ]
  },
  {
   "cell_type": "code",
   "execution_count": 8,
   "metadata": {},
   "outputs": [
    {
     "name": "stderr",
     "output_type": "stream",
     "text": [
      "0it [00:00, ?it/s]"
     ]
    },
    {
     "name": "stderr",
     "output_type": "stream",
     "text": [
      "22989it [00:00, 23077.36it/s]\n"
     ]
    }
   ],
   "source": [
    "# Raptor\n",
    "records = get_fastq_records(fastq_filepath=r\"C:\\Users\\Parv\\Doc\\RA\\Projects\\clustering_dna_storage\\cat_encoded_synth.fasta\\cat_encoded_synth.fasta\")"
   ]
  },
  {
   "cell_type": "code",
   "execution_count": 9,
   "metadata": {},
   "outputs": [],
   "source": [
    "reads = [str(i.seq) for i in records]\n",
    "ids = [get_badread_strand_id(i) for i in records]"
   ]
  },
  {
   "cell_type": "code",
   "execution_count": 22,
   "metadata": {},
   "outputs": [],
   "source": [
    "clustering = Clustering(strand_pool=reads, reference_length=204, original_strands=encoded_strands, strand_pool_ids=ids, original_strand_ids=original_strand_ids, distance_threshold=40)"
   ]
  },
  {
   "cell_type": "code",
   "execution_count": 94,
   "metadata": {},
   "outputs": [
    {
     "name": "stderr",
     "output_type": "stream",
     "text": [
      "100%|██████████| 1245/1245 [02:45<00:00,  7.50it/s]\n"
     ]
    },
    {
     "name": "stdout",
     "output_type": "stream",
     "text": [
      "Fixing candidate orientations\n",
      "0.5140562248995983 candidates are reversed\n"
     ]
    }
   ],
   "source": [
    "candidates = clustering.generate_candidates(n_candidates=len(clustering.clustered_seqs))"
   ]
  },
  {
   "cell_type": "code",
   "execution_count": null,
   "metadata": {},
   "outputs": [
    {
     "name": "stderr",
     "output_type": "stream",
     "text": [
      "100%|██████████| 1245/1245 [06:21<00:00,  3.26it/s]\n"
     ]
    },
    {
     "name": "stdout",
     "output_type": "stream",
     "text": [
      "0.16989247311827957 were reversed\n",
      "930 Valid checksum strands found\n"
     ]
    },
    {
     "ename": "AttributeError",
     "evalue": "'Clustering' object has no attribute 'n'",
     "output_type": "error",
     "traceback": [
      "\u001b[1;31m---------------------------------------------------------------------------\u001b[0m",
      "\u001b[1;31mAttributeError\u001b[0m                            Traceback (most recent call last)",
      "Cell \u001b[1;32mIn[95], line 5\u001b[0m\n\u001b[0;32m      2\u001b[0m decoded_strands \u001b[38;5;241m=\u001b[39m checksum\u001b[38;5;241m.\u001b[39mdecode(candidates\u001b[38;5;241m=\u001b[39mcandidates, n_reference_strands\u001b[38;5;241m=\u001b[39m\u001b[38;5;28mlen\u001b[39m(original_strands), clustered_seqs\u001b[38;5;241m=\u001b[39mclustering\u001b[38;5;241m.\u001b[39mclustered_seqs, n_guesses\u001b[38;5;241m=\u001b[39m\u001b[38;5;241m15\u001b[39m, guesses\u001b[38;5;241m=\u001b[39m\u001b[38;5;28;01mTrue\u001b[39;00m)\n\u001b[0;32m      4\u001b[0m clustering\u001b[38;5;241m.\u001b[39moriginal_strands \u001b[38;5;241m=\u001b[39m original_strands\n\u001b[1;32m----> 5\u001b[0m \u001b[43mclustering\u001b[49m\u001b[38;5;241;43m.\u001b[39;49m\u001b[43mfsm\u001b[49m\u001b[43m(\u001b[49m\u001b[43mcandidates\u001b[49m\u001b[38;5;241;43m=\u001b[39;49m\u001b[43mcandidates\u001b[49m\u001b[43m)\u001b[49m\n",
      "File \u001b[1;32mc:\\Users\\Parv\\Doc\\RA\\Projects\\clustering_dna_storage\\clustering.py:157\u001b[0m, in \u001b[0;36mClustering.fsm\u001b[1;34m(self, candidates, hard)\u001b[0m\n\u001b[0;32m    154\u001b[0m         found \u001b[38;5;241m+\u001b[39m\u001b[38;5;241m=\u001b[39m \u001b[38;5;241m1\u001b[39m\n\u001b[0;32m    155\u001b[0m         \u001b[38;5;28;01mcontinue\u001b[39;00m\n\u001b[1;32m--> 157\u001b[0m \u001b[38;5;28;01mif\u001b[39;00m found \u001b[38;5;241m==\u001b[39m \u001b[38;5;28;43mself\u001b[39;49m\u001b[38;5;241;43m.\u001b[39;49m\u001b[43mn\u001b[49m:\n\u001b[0;32m    158\u001b[0m     \u001b[38;5;28mprint\u001b[39m(\u001b[38;5;124m\"\u001b[39m\u001b[38;5;124mFound all\u001b[39m\u001b[38;5;124m\"\u001b[39m)\n\u001b[0;32m    159\u001b[0m     \u001b[38;5;28;01mreturn\u001b[39;00m \u001b[38;5;28;01mTrue\u001b[39;00m\n",
      "\u001b[1;31mAttributeError\u001b[0m: 'Clustering' object has no attribute 'n'"
     ]
    }
   ],
   "source": [
    "# We want to recover the original strands after checksum\n",
    "decoded_strands = checksum.decode(candidates=candidates, n_reference_strands=len(original_strands), clustered_seqs=clustering.clustered_seqs, n_guesses=15, guesses=True)\n",
    "\n",
    "clustering.original_strands = original_strands\n",
    "clustering.fsm(candidates=decoded_strands)"
   ]
  },
  {
   "cell_type": "code",
   "execution_count": 92,
   "metadata": {},
   "outputs": [
    {
     "name": "stdout",
     "output_type": "stream",
     "text": [
      "File saved as decoded_raptor.fasta\n"
     ]
    }
   ],
   "source": [
    "import uuid\n",
    "ids = [str(uuid.uuid4()) for i in range(len(decoded_strands))]\n",
    "create_fasta_file(ids, decoded_strands, output_filepath='decoded_raptor.fasta')"
   ]
  },
  {
   "cell_type": "code",
   "execution_count": null,
   "metadata": {},
   "outputs": [],
   "source": []
  }
 ],
 "metadata": {
  "kernelspec": {
   "display_name": "pytorch_gpu",
   "language": "python",
   "name": "python3"
  },
  "language_info": {
   "codemirror_mode": {
    "name": "ipython",
    "version": 3
   },
   "file_extension": ".py",
   "mimetype": "text/x-python",
   "name": "python",
   "nbconvert_exporter": "python",
   "pygments_lexer": "ipython3",
   "version": "3.12.3"
  }
 },
 "nbformat": 4,
 "nbformat_minor": 2
}
