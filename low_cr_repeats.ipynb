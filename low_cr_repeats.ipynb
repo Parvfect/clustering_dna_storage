{
 "cells": [
  {
   "cell_type": "markdown",
   "metadata": {},
   "source": [
    "### Low CR repeats\n",
    "Attempting to see repeats needed per coupling rate to get back the strand"
   ]
  },
  {
   "cell_type": "code",
   "execution_count": 1,
   "metadata": {},
   "outputs": [],
   "source": [
    "%load_ext autoreload\n",
    "%autoreload 2"
   ]
  },
  {
   "cell_type": "code",
   "execution_count": 1,
   "metadata": {},
   "outputs": [],
   "source": [
    "\n",
    "from synthesis import NaiveSynthesisModel\n",
    "from Levenshtein import ratio, distance\n",
    "from strand_reconstruction import make_prediction, majority_merge, align\n",
    "from evaluation import get_recovery_rate\n",
    "from random import sample\n",
    "from tqdm.notebook import tqdm\n",
    "import numpy as np\n",
    "import matplotlib.pyplot as plt\n",
    "import utils\n",
    "from clustering import cluster_strands"
   ]
  },
  {
   "cell_type": "code",
   "execution_count": 2,
   "metadata": {},
   "outputs": [],
   "source": [
    "t = np.array([utils.create_random_strand(200) for i in range(200)])\n",
    "s = np.array([utils.create_random_strand(200) for i in range(200)])"
   ]
  },
  {
   "cell_type": "code",
   "execution_count": 4,
   "metadata": {},
   "outputs": [],
   "source": [
    "l = distance(t, s)"
   ]
  },
  {
   "cell_type": "code",
   "execution_count": 5,
   "metadata": {},
   "outputs": [
    {
     "data": {
      "text/plain": [
       "200"
      ]
     },
     "execution_count": 5,
     "metadata": {},
     "output_type": "execute_result"
    }
   ],
   "source": [
    "l"
   ]
  },
  {
   "cell_type": "code",
   "execution_count": 3,
   "metadata": {},
   "outputs": [],
   "source": [
    "synthesis_model = NaiveSynthesisModel(coupling_rate=0.8, strand_length=110, repeats=10000, capping=False)\n",
    "original_strand = synthesis_model.strand"
   ]
  },
  {
   "cell_type": "code",
   "execution_count": 4,
   "metadata": {},
   "outputs": [],
   "source": [
    "synthesised_strands = synthesis_model.simulate_synthesis()"
   ]
  },
  {
   "cell_type": "code",
   "execution_count": 11,
   "metadata": {},
   "outputs": [
    {
     "data": {
      "application/vnd.jupyter.widget-view+json": {
       "model_id": "21f7ae1a807745358ee6b9562463dd8e",
       "version_major": 2,
       "version_minor": 0
      },
      "text/plain": [
       "  0%|          | 0/10000 [00:00<?, ?it/s]"
      ]
     },
     "metadata": {},
     "output_type": "display_data"
    },
    {
     "ename": "KeyboardInterrupt",
     "evalue": "",
     "output_type": "error",
     "traceback": [
      "\u001b[1;31m---------------------------------------------------------------------------\u001b[0m",
      "\u001b[1;31mKeyboardInterrupt\u001b[0m                         Traceback (most recent call last)",
      "Cell \u001b[1;32mIn[11], line 5\u001b[0m\n\u001b[0;32m      2\u001b[0m \u001b[38;5;28;01mfor\u001b[39;00m i \u001b[38;5;129;01min\u001b[39;00m tqdm(synthesised_strands):\n\u001b[0;32m      4\u001b[0m     aligned \u001b[38;5;241m=\u001b[39m align(original_strand, i)\n\u001b[1;32m----> 5\u001b[0m     positional_error \u001b[38;5;241m=\u001b[39m [\u001b[43maligned\u001b[49m\u001b[38;5;241;43m.\u001b[39;49m\u001b[43mindices\u001b[49m[\u001b[38;5;241m0\u001b[39m][ind] \u001b[38;5;28;01mfor\u001b[39;00m ind, i \u001b[38;5;129;01min\u001b[39;00m \u001b[38;5;28menumerate\u001b[39m(aligned\u001b[38;5;241m.\u001b[39mindices[\u001b[38;5;241m1\u001b[39m]) \u001b[38;5;28;01mif\u001b[39;00m i \u001b[38;5;241m==\u001b[39m \u001b[38;5;241m-\u001b[39m\u001b[38;5;241m1\u001b[39m]\n\u001b[0;32m      7\u001b[0m     \u001b[38;5;28;01mfor\u001b[39;00m i \u001b[38;5;129;01min\u001b[39;00m positional_error:\n\u001b[0;32m      8\u001b[0m         error_by_position[i] \u001b[38;5;241m+\u001b[39m\u001b[38;5;241m=\u001b[39m \u001b[38;5;241m1\u001b[39m\n",
      "File \u001b[1;32mc:\\Users\\Parv\\anaconda3\\envs\\pytorch_gpu\\Lib\\site-packages\\Bio\\Align\\__init__.py:2931\u001b[0m, in \u001b[0;36mAlignment.indices\u001b[1;34m(self)\u001b[0m\n\u001b[0;32m   2875\u001b[0m \u001b[38;5;129m@property\u001b[39m\n\u001b[0;32m   2876\u001b[0m \u001b[38;5;28;01mdef\u001b[39;00m \u001b[38;5;21mindices\u001b[39m(\u001b[38;5;28mself\u001b[39m):\n\u001b[0;32m   2877\u001b[0m \u001b[38;5;250m    \u001b[39m\u001b[38;5;124;03m\"\"\"Return the sequence index of each lettter in the alignment.\u001b[39;00m\n\u001b[0;32m   2878\u001b[0m \n\u001b[0;32m   2879\u001b[0m \u001b[38;5;124;03m    This property returns a 2D NumPy array with the sequence index of each\u001b[39;00m\n\u001b[1;32m   (...)\u001b[0m\n\u001b[0;32m   2929\u001b[0m \n\u001b[0;32m   2930\u001b[0m \u001b[38;5;124;03m    \"\"\"\u001b[39;00m\n\u001b[1;32m-> 2931\u001b[0m     a \u001b[38;5;241m=\u001b[39m \u001b[38;5;241m-\u001b[39mnp\u001b[38;5;241m.\u001b[39mones(\u001b[38;5;28;43mself\u001b[39;49m\u001b[38;5;241;43m.\u001b[39;49m\u001b[43mshape\u001b[49m, \u001b[38;5;28mint\u001b[39m)\n\u001b[0;32m   2932\u001b[0m     n, m \u001b[38;5;241m=\u001b[39m \u001b[38;5;28mself\u001b[39m\u001b[38;5;241m.\u001b[39mcoordinates\u001b[38;5;241m.\u001b[39mshape\n\u001b[0;32m   2933\u001b[0m     steps \u001b[38;5;241m=\u001b[39m np\u001b[38;5;241m.\u001b[39mdiff(\u001b[38;5;28mself\u001b[39m\u001b[38;5;241m.\u001b[39mcoordinates, \u001b[38;5;241m1\u001b[39m)\n",
      "File \u001b[1;32mc:\\Users\\Parv\\anaconda3\\envs\\pytorch_gpu\\Lib\\site-packages\\Bio\\Align\\__init__.py:2759\u001b[0m, in \u001b[0;36mAlignment.shape\u001b[1;34m(self)\u001b[0m\n\u001b[0;32m   2718\u001b[0m \u001b[38;5;250m\u001b[39m\u001b[38;5;124;03m\"\"\"Return the shape of the alignment as a tuple of two integer values.\u001b[39;00m\n\u001b[0;32m   2719\u001b[0m \n\u001b[0;32m   2720\u001b[0m \u001b[38;5;124;03mThe first integer value is the number of sequences in the alignment as\u001b[39;00m\n\u001b[1;32m   (...)\u001b[0m\n\u001b[0;32m   2756\u001b[0m \u001b[38;5;124;03m(2, 7)\u001b[39;00m\n\u001b[0;32m   2757\u001b[0m \u001b[38;5;124;03m\"\"\"\u001b[39;00m\n\u001b[0;32m   2758\u001b[0m n \u001b[38;5;241m=\u001b[39m \u001b[38;5;28mlen\u001b[39m(\u001b[38;5;28mself\u001b[39m\u001b[38;5;241m.\u001b[39mcoordinates)\n\u001b[1;32m-> 2759\u001b[0m m \u001b[38;5;241m=\u001b[39m \u001b[38;5;28;43mself\u001b[39;49m\u001b[38;5;241;43m.\u001b[39;49m\u001b[43mlength\u001b[49m\n\u001b[0;32m   2760\u001b[0m \u001b[38;5;28;01mreturn\u001b[39;00m (n, m)\n",
      "File \u001b[1;32mc:\\Users\\Parv\\anaconda3\\envs\\pytorch_gpu\\Lib\\site-packages\\Bio\\Align\\__init__.py:2705\u001b[0m, in \u001b[0;36mAlignment.length\u001b[1;34m(self)\u001b[0m\n\u001b[0;32m   2703\u001b[0m \u001b[38;5;28;01mfor\u001b[39;00m i \u001b[38;5;129;01min\u001b[39;00m \u001b[38;5;28mrange\u001b[39m(n):\n\u001b[0;32m   2704\u001b[0m     row \u001b[38;5;241m=\u001b[39m steps[i, aligned]\n\u001b[1;32m-> 2705\u001b[0m     \u001b[38;5;28;01mif\u001b[39;00m \u001b[43m(\u001b[49m\u001b[43mrow\u001b[49m\u001b[43m \u001b[49m\u001b[38;5;241;43m>\u001b[39;49m\u001b[38;5;241;43m=\u001b[39;49m\u001b[43m \u001b[49m\u001b[38;5;241;43m0\u001b[39;49m\u001b[43m)\u001b[49m\u001b[38;5;241;43m.\u001b[39;49m\u001b[43mall\u001b[49m\u001b[43m(\u001b[49m\u001b[43m)\u001b[49m:\n\u001b[0;32m   2706\u001b[0m         \u001b[38;5;28;01mpass\u001b[39;00m\n\u001b[0;32m   2707\u001b[0m     \u001b[38;5;28;01melif\u001b[39;00m (row \u001b[38;5;241m<\u001b[39m\u001b[38;5;241m=\u001b[39m \u001b[38;5;241m0\u001b[39m)\u001b[38;5;241m.\u001b[39mall():\n",
      "File \u001b[1;32mc:\\Users\\Parv\\anaconda3\\envs\\pytorch_gpu\\Lib\\site-packages\\numpy\\_core\\_methods.py:68\u001b[0m, in \u001b[0;36m_all\u001b[1;34m(a, axis, dtype, out, keepdims, where)\u001b[0m\n\u001b[0;32m     65\u001b[0m         \u001b[38;5;28;01mreturn\u001b[39;00m umr_any(a, axis, dtype, out, keepdims)\n\u001b[0;32m     66\u001b[0m     \u001b[38;5;28;01mreturn\u001b[39;00m umr_any(a, axis, dtype, out, keepdims, where\u001b[38;5;241m=\u001b[39mwhere)\n\u001b[1;32m---> 68\u001b[0m \u001b[38;5;28;01mdef\u001b[39;00m \u001b[38;5;21m_all\u001b[39m(a, axis\u001b[38;5;241m=\u001b[39m\u001b[38;5;28;01mNone\u001b[39;00m, dtype\u001b[38;5;241m=\u001b[39m\u001b[38;5;28;01mNone\u001b[39;00m, out\u001b[38;5;241m=\u001b[39m\u001b[38;5;28;01mNone\u001b[39;00m, keepdims\u001b[38;5;241m=\u001b[39m\u001b[38;5;28;01mFalse\u001b[39;00m, \u001b[38;5;241m*\u001b[39m, where\u001b[38;5;241m=\u001b[39m\u001b[38;5;28;01mTrue\u001b[39;00m):\n\u001b[0;32m     69\u001b[0m     \u001b[38;5;66;03m# By default, return a boolean for any and all\u001b[39;00m\n\u001b[0;32m     70\u001b[0m     \u001b[38;5;28;01mif\u001b[39;00m dtype \u001b[38;5;129;01mis\u001b[39;00m \u001b[38;5;28;01mNone\u001b[39;00m:\n\u001b[0;32m     71\u001b[0m         dtype \u001b[38;5;241m=\u001b[39m bool_dt\n",
      "\u001b[1;31mKeyboardInterrupt\u001b[0m: "
     ]
    }
   ],
   "source": [
    "error_by_position = np.zeros(len(original_strand))\n",
    "for i in tqdm(synthesised_strands):\n",
    "\n",
    "    aligned = align(original_strand, i)\n",
    "    positional_error = [aligned.indices[0][ind] for ind, i in enumerate(aligned.indices[1]) if i == -1]\n",
    "\n",
    "    for i in positional_error:\n",
    "        error_by_position[i] += 1"
   ]
  },
  {
   "cell_type": "code",
   "execution_count": 14,
   "metadata": {},
   "outputs": [
    {
     "data": {
      "text/plain": [
       "<matplotlib.lines.Line2D at 0x26241b22b70>"
      ]
     },
     "execution_count": 14,
     "metadata": {},
     "output_type": "execute_result"
    },
    {
     "data": {
      "image/png": "[encoded data removed]",
      "text/plain": [
       "<Figure size 640x480 with 1 Axes>"
      ]
     },
     "metadata": {},
     "output_type": "display_data"
    }
   ],
   "source": [
    "plt.plot(error_by_position/5458 , 'bo')\n",
    "plt.title(\"Distribution of strand lengths for deletion model with cr=0.8\")\n",
    "plt.xlabel(\"Strand length (original strand length 110)\")\n",
    "plt.ylabel(\"Number of strands\")\n",
    "plt.axhline(0.2, color='r')"
   ]
  },
  {
   "cell_type": "markdown",
   "metadata": {},
   "source": [
    "## Old method - using multiple alignment"
   ]
  },
  {
   "cell_type": "code",
   "execution_count": 24,
   "metadata": {},
   "outputs": [
    {
     "ename": "KeyboardInterrupt",
     "evalue": "",
     "output_type": "error",
     "traceback": [
      "\u001b[1;31m---------------------------------------------------------------------------\u001b[0m",
      "\u001b[1;31mKeyboardInterrupt\u001b[0m                         Traceback (most recent call last)",
      "Cell \u001b[1;32mIn[24], line 21\u001b[0m\n\u001b[0;32m     19\u001b[0m \u001b[38;5;28;01mfor\u001b[39;00m k \u001b[38;5;129;01min\u001b[39;00m \u001b[38;5;28mrange\u001b[39m(\u001b[38;5;241m0\u001b[39m, i, strands_to_multiple_align):\n\u001b[0;32m     20\u001b[0m     \u001b[38;5;28;01mif\u001b[39;00m k \u001b[38;5;241m+\u001b[39m strands_to_multiple_align \u001b[38;5;241m>\u001b[39m i:\n\u001b[1;32m---> 21\u001b[0m         candidates\u001b[38;5;241m.\u001b[39mappend(\u001b[43mmake_prediction\u001b[49m\u001b[43m(\u001b[49m\u001b[43mstrands\u001b[49m\u001b[43m[\u001b[49m\u001b[43mk\u001b[49m\u001b[43m:\u001b[49m\u001b[43m \u001b[49m\u001b[43mi\u001b[49m\u001b[43m]\u001b[49m\u001b[43m,\u001b[49m\u001b[43m \u001b[49m\u001b[43msample_size\u001b[49m\u001b[38;5;241;43m=\u001b[39;49m\u001b[43mi\u001b[49m\u001b[38;5;241;43m-\u001b[39;49m\u001b[43mk\u001b[49m\u001b[43m)\u001b[49m)\n\u001b[0;32m     22\u001b[0m     \u001b[38;5;28;01melse\u001b[39;00m:\n\u001b[0;32m     23\u001b[0m         candidates\u001b[38;5;241m.\u001b[39mappend(make_prediction(strands[k: k \u001b[38;5;241m+\u001b[39m strands_to_multiple_align]))\n",
      "File \u001b[1;32mc:\\Users\\Parv\\Doc\\RA\\Projects\\clustering_dna_storage\\strand_reconstruction.py:91\u001b[0m, in \u001b[0;36mmake_prediction\u001b[1;34m(cluster, sample_size)\u001b[0m\n\u001b[0;32m     88\u001b[0m \u001b[38;5;28;01mdef\u001b[39;00m \u001b[38;5;21mmake_prediction\u001b[39m(cluster: List[\u001b[38;5;28mstr\u001b[39m], sample_size: \u001b[38;5;28mint\u001b[39m\u001b[38;5;241m=\u001b[39m\u001b[38;5;241m5\u001b[39m) \u001b[38;5;241m-\u001b[39m\u001b[38;5;241m>\u001b[39m \u001b[38;5;28mstr\u001b[39m:\n\u001b[0;32m     89\u001b[0m     \u001b[38;5;66;03m#assert sample_size <= len(cluster)\u001b[39;00m\n\u001b[0;32m     90\u001b[0m     cluster \u001b[38;5;241m=\u001b[39m random\u001b[38;5;241m.\u001b[39msample(cluster, \u001b[38;5;28mmin\u001b[39m(sample_size, \u001b[38;5;28mlen\u001b[39m(cluster)))\n\u001b[1;32m---> 91\u001b[0m     \u001b[38;5;28;01mreturn\u001b[39;00m majority_merge(\u001b[43mmultiple_alignment_muscle\u001b[49m\u001b[43m(\u001b[49m\u001b[43mcluster\u001b[49m\u001b[43m)\u001b[49m)\n",
      "File \u001b[1;32mc:\\Users\\Parv\\Doc\\RA\\Projects\\clustering_dna_storage\\strand_reconstruction.py:45\u001b[0m, in \u001b[0;36mmultiple_alignment_muscle\u001b[1;34m(cluster, out, running_on_hpc)\u001b[0m\n\u001b[0;32m     42\u001b[0m output_alignment \u001b[38;5;241m=\u001b[39m \u001b[38;5;124m\"\u001b[39m\u001b[38;5;124mclmout.fasta\u001b[39m\u001b[38;5;124m\"\u001b[39m\n\u001b[0;32m     44\u001b[0m \u001b[38;5;28;01mtry\u001b[39;00m:\n\u001b[1;32m---> 45\u001b[0m     output_message \u001b[38;5;241m=\u001b[39m \u001b[43msubprocess\u001b[49m\u001b[38;5;241;43m.\u001b[39;49m\u001b[43mrun\u001b[49m\u001b[43m(\u001b[49m\n\u001b[0;32m     46\u001b[0m \u001b[43m        \u001b[49m\u001b[43margs\u001b[49m\u001b[38;5;241;43m=\u001b[39;49m\u001b[43m[\u001b[49m\n\u001b[0;32m     47\u001b[0m \u001b[43m            \u001b[49m\u001b[38;5;124;43mf\u001b[39;49m\u001b[38;5;124;43m\"\u001b[39;49m\u001b[38;5;132;43;01m{\u001b[39;49;00m\u001b[43mmuscle_exe\u001b[49m\u001b[38;5;132;43;01m}\u001b[39;49;00m\u001b[38;5;124;43m\"\u001b[39;49m\u001b[43m,\u001b[49m\u001b[43m \u001b[49m\u001b[38;5;124;43m\"\u001b[39;49m\u001b[38;5;124;43m-align\u001b[39;49m\u001b[38;5;124;43m\"\u001b[39;49m\u001b[43m,\u001b[49m\u001b[43m \u001b[49m\u001b[38;5;124;43m\"\u001b[39;49m\u001b[38;5;124;43mclm.fasta\u001b[39;49m\u001b[38;5;124;43m\"\u001b[39;49m\u001b[43m,\u001b[49m\u001b[43m \u001b[49m\u001b[38;5;124;43m\"\u001b[39;49m\u001b[38;5;124;43m-output\u001b[39;49m\u001b[38;5;124;43m\"\u001b[39;49m\u001b[43m,\u001b[49m\u001b[43m \u001b[49m\u001b[38;5;124;43m\"\u001b[39;49m\u001b[38;5;124;43mclmout.fasta\u001b[39;49m\u001b[38;5;124;43m\"\u001b[39;49m\n\u001b[0;32m     48\u001b[0m \u001b[43m        \u001b[49m\u001b[43m]\u001b[49m\u001b[43m,\u001b[49m\n\u001b[0;32m     49\u001b[0m \u001b[43m        \u001b[49m\u001b[43mstdout\u001b[49m\u001b[38;5;241;43m=\u001b[39;49m\u001b[43msubprocess\u001b[49m\u001b[38;5;241;43m.\u001b[39;49m\u001b[43mPIPE\u001b[49m\u001b[43m,\u001b[49m\n\u001b[0;32m     50\u001b[0m \u001b[43m        \u001b[49m\u001b[43mstderr\u001b[49m\u001b[38;5;241;43m=\u001b[39;49m\u001b[43msubprocess\u001b[49m\u001b[38;5;241;43m.\u001b[39;49m\u001b[43mPIPE\u001b[49m\u001b[43m,\u001b[49m\n\u001b[0;32m     51\u001b[0m \u001b[43m        \u001b[49m\u001b[43mcheck\u001b[49m\u001b[38;5;241;43m=\u001b[39;49m\u001b[38;5;28;43;01mTrue\u001b[39;49;00m\u001b[43m,\u001b[49m\n\u001b[0;32m     52\u001b[0m \u001b[43m        \u001b[49m\u001b[43mtimeout\u001b[49m\u001b[38;5;241;43m=\u001b[39;49m\u001b[38;5;241;43m120\u001b[39;49m\n\u001b[0;32m     53\u001b[0m \u001b[43m    \u001b[49m\u001b[43m)\u001b[49m\n\u001b[0;32m     54\u001b[0m \u001b[38;5;28;01mexcept\u001b[39;00m \u001b[38;5;167;01mException\u001b[39;00m \u001b[38;5;28;01mas\u001b[39;00m e:\n\u001b[0;32m     55\u001b[0m     \u001b[38;5;28mprint\u001b[39m(e)\n",
      "File \u001b[1;32mc:\\Users\\Parv\\anaconda3\\envs\\pytorch_gpu\\Lib\\subprocess.py:550\u001b[0m, in \u001b[0;36mrun\u001b[1;34m(input, capture_output, timeout, check, *popenargs, **kwargs)\u001b[0m\n\u001b[0;32m    548\u001b[0m \u001b[38;5;28;01mwith\u001b[39;00m Popen(\u001b[38;5;241m*\u001b[39mpopenargs, \u001b[38;5;241m*\u001b[39m\u001b[38;5;241m*\u001b[39mkwargs) \u001b[38;5;28;01mas\u001b[39;00m process:\n\u001b[0;32m    549\u001b[0m     \u001b[38;5;28;01mtry\u001b[39;00m:\n\u001b[1;32m--> 550\u001b[0m         stdout, stderr \u001b[38;5;241m=\u001b[39m \u001b[43mprocess\u001b[49m\u001b[38;5;241;43m.\u001b[39;49m\u001b[43mcommunicate\u001b[49m\u001b[43m(\u001b[49m\u001b[38;5;28;43minput\u001b[39;49m\u001b[43m,\u001b[49m\u001b[43m \u001b[49m\u001b[43mtimeout\u001b[49m\u001b[38;5;241;43m=\u001b[39;49m\u001b[43mtimeout\u001b[49m\u001b[43m)\u001b[49m\n\u001b[0;32m    551\u001b[0m     \u001b[38;5;28;01mexcept\u001b[39;00m TimeoutExpired \u001b[38;5;28;01mas\u001b[39;00m exc:\n\u001b[0;32m    552\u001b[0m         process\u001b[38;5;241m.\u001b[39mkill()\n",
      "File \u001b[1;32mc:\\Users\\Parv\\anaconda3\\envs\\pytorch_gpu\\Lib\\subprocess.py:1209\u001b[0m, in \u001b[0;36mPopen.communicate\u001b[1;34m(self, input, timeout)\u001b[0m\n\u001b[0;32m   1206\u001b[0m     endtime \u001b[38;5;241m=\u001b[39m \u001b[38;5;28;01mNone\u001b[39;00m\n\u001b[0;32m   1208\u001b[0m \u001b[38;5;28;01mtry\u001b[39;00m:\n\u001b[1;32m-> 1209\u001b[0m     stdout, stderr \u001b[38;5;241m=\u001b[39m \u001b[38;5;28;43mself\u001b[39;49m\u001b[38;5;241;43m.\u001b[39;49m\u001b[43m_communicate\u001b[49m\u001b[43m(\u001b[49m\u001b[38;5;28;43minput\u001b[39;49m\u001b[43m,\u001b[49m\u001b[43m \u001b[49m\u001b[43mendtime\u001b[49m\u001b[43m,\u001b[49m\u001b[43m \u001b[49m\u001b[43mtimeout\u001b[49m\u001b[43m)\u001b[49m\n\u001b[0;32m   1210\u001b[0m \u001b[38;5;28;01mexcept\u001b[39;00m \u001b[38;5;167;01mKeyboardInterrupt\u001b[39;00m:\n\u001b[0;32m   1211\u001b[0m     \u001b[38;5;66;03m# https://bugs.python.org/issue25942\u001b[39;00m\n\u001b[0;32m   1212\u001b[0m     \u001b[38;5;66;03m# See the detailed comment in .wait().\u001b[39;00m\n\u001b[0;32m   1213\u001b[0m     \u001b[38;5;28;01mif\u001b[39;00m timeout \u001b[38;5;129;01mis\u001b[39;00m \u001b[38;5;129;01mnot\u001b[39;00m \u001b[38;5;28;01mNone\u001b[39;00m:\n",
      "File \u001b[1;32mc:\\Users\\Parv\\anaconda3\\envs\\pytorch_gpu\\Lib\\subprocess.py:1628\u001b[0m, in \u001b[0;36mPopen._communicate\u001b[1;34m(self, input, endtime, orig_timeout)\u001b[0m\n\u001b[0;32m   1624\u001b[0m \u001b[38;5;66;03m# Wait for the reader threads, or time out.  If we time out, the\u001b[39;00m\n\u001b[0;32m   1625\u001b[0m \u001b[38;5;66;03m# threads remain reading and the fds left open in case the user\u001b[39;00m\n\u001b[0;32m   1626\u001b[0m \u001b[38;5;66;03m# calls communicate again.\u001b[39;00m\n\u001b[0;32m   1627\u001b[0m \u001b[38;5;28;01mif\u001b[39;00m \u001b[38;5;28mself\u001b[39m\u001b[38;5;241m.\u001b[39mstdout \u001b[38;5;129;01mis\u001b[39;00m \u001b[38;5;129;01mnot\u001b[39;00m \u001b[38;5;28;01mNone\u001b[39;00m:\n\u001b[1;32m-> 1628\u001b[0m     \u001b[38;5;28;43mself\u001b[39;49m\u001b[38;5;241;43m.\u001b[39;49m\u001b[43mstdout_thread\u001b[49m\u001b[38;5;241;43m.\u001b[39;49m\u001b[43mjoin\u001b[49m\u001b[43m(\u001b[49m\u001b[38;5;28;43mself\u001b[39;49m\u001b[38;5;241;43m.\u001b[39;49m\u001b[43m_remaining_time\u001b[49m\u001b[43m(\u001b[49m\u001b[43mendtime\u001b[49m\u001b[43m)\u001b[49m\u001b[43m)\u001b[49m\n\u001b[0;32m   1629\u001b[0m     \u001b[38;5;28;01mif\u001b[39;00m \u001b[38;5;28mself\u001b[39m\u001b[38;5;241m.\u001b[39mstdout_thread\u001b[38;5;241m.\u001b[39mis_alive():\n\u001b[0;32m   1630\u001b[0m         \u001b[38;5;28;01mraise\u001b[39;00m TimeoutExpired(\u001b[38;5;28mself\u001b[39m\u001b[38;5;241m.\u001b[39margs, orig_timeout)\n",
      "File \u001b[1;32mc:\\Users\\Parv\\anaconda3\\envs\\pytorch_gpu\\Lib\\threading.py:1151\u001b[0m, in \u001b[0;36mThread.join\u001b[1;34m(self, timeout)\u001b[0m\n\u001b[0;32m   1147\u001b[0m     \u001b[38;5;28mself\u001b[39m\u001b[38;5;241m.\u001b[39m_wait_for_tstate_lock()\n\u001b[0;32m   1148\u001b[0m \u001b[38;5;28;01melse\u001b[39;00m:\n\u001b[0;32m   1149\u001b[0m     \u001b[38;5;66;03m# the behavior of a negative timeout isn't documented, but\u001b[39;00m\n\u001b[0;32m   1150\u001b[0m     \u001b[38;5;66;03m# historically .join(timeout=x) for x<0 has acted as if timeout=0\u001b[39;00m\n\u001b[1;32m-> 1151\u001b[0m     \u001b[38;5;28;43mself\u001b[39;49m\u001b[38;5;241;43m.\u001b[39;49m\u001b[43m_wait_for_tstate_lock\u001b[49m\u001b[43m(\u001b[49m\u001b[43mtimeout\u001b[49m\u001b[38;5;241;43m=\u001b[39;49m\u001b[38;5;28;43mmax\u001b[39;49m\u001b[43m(\u001b[49m\u001b[43mtimeout\u001b[49m\u001b[43m,\u001b[49m\u001b[43m \u001b[49m\u001b[38;5;241;43m0\u001b[39;49m\u001b[43m)\u001b[49m\u001b[43m)\u001b[49m\n",
      "File \u001b[1;32mc:\\Users\\Parv\\anaconda3\\envs\\pytorch_gpu\\Lib\\threading.py:1167\u001b[0m, in \u001b[0;36mThread._wait_for_tstate_lock\u001b[1;34m(self, block, timeout)\u001b[0m\n\u001b[0;32m   1164\u001b[0m     \u001b[38;5;28;01mreturn\u001b[39;00m\n\u001b[0;32m   1166\u001b[0m \u001b[38;5;28;01mtry\u001b[39;00m:\n\u001b[1;32m-> 1167\u001b[0m     \u001b[38;5;28;01mif\u001b[39;00m \u001b[43mlock\u001b[49m\u001b[38;5;241;43m.\u001b[39;49m\u001b[43macquire\u001b[49m\u001b[43m(\u001b[49m\u001b[43mblock\u001b[49m\u001b[43m,\u001b[49m\u001b[43m \u001b[49m\u001b[43mtimeout\u001b[49m\u001b[43m)\u001b[49m:\n\u001b[0;32m   1168\u001b[0m         lock\u001b[38;5;241m.\u001b[39mrelease()\n\u001b[0;32m   1169\u001b[0m         \u001b[38;5;28mself\u001b[39m\u001b[38;5;241m.\u001b[39m_stop()\n",
      "\u001b[1;31mKeyboardInterrupt\u001b[0m: "
     ]
    }
   ],
   "source": [
    "\n",
    "# Iterating over coupling rates\n",
    "\n",
    "coupling_rates = np.arange(0.9, 0.8, -0.005)\n",
    "n2_repeats_for_full_recovery = []\n",
    "#print(coupling_rates)\n",
    "experiment_repeats = 5\n",
    "strands_to_multiple_align = 40\n",
    "\n",
    "for cr in coupling_rates:\n",
    "    repeats_at_cr = []\n",
    "    for experiment_repeat in range(experiment_repeats):\n",
    "        synthesis_model = NaiveSynthesisModel(coupling_rate=cr, strand_length=200, repeats=500, capping=False)\n",
    "        original_strand = synthesis_model.strand\n",
    "        strands = synthesis_model.simulate_synthesis()\n",
    "        for i in range(100, 400, 5):\n",
    "            \n",
    "            if i > strands_to_multiple_align:\n",
    "                candidates = []\n",
    "                for k in range(0, i, strands_to_multiple_align):\n",
    "                    if k + strands_to_multiple_align > i:\n",
    "                        candidates.append(make_prediction(strands[k: i], sample_size=i-k))\n",
    "                    else:\n",
    "                        candidates.append(make_prediction(strands[k: k + strands_to_multiple_align]))\n",
    "                candidate = make_prediction(candidates, len(candidates))\n",
    "                #candidate = majority_merge(candidates, weight=0)\n",
    "            else:\n",
    "                sampled_strands = sample(strands, i)\n",
    "                candidate = make_prediction(sampled_strands, len(sampled_strands))\n",
    "            \n",
    "            edit_distance = distance(candidate, original_strand)\n",
    "            recovery = get_recovery_rate(candidate, original_strand)\n",
    "\n",
    "            if recovery == 1.0:\n",
    "                repeats_at_cr.append(i)\n",
    "                break\n",
    "        \n",
    "    mean_strands_reqd = np.mean(repeats_at_cr)\n",
    "    print(f\"Coupling rate {cr}, strands reqd {mean_strands_reqd}\")\n",
    "    n2_repeats_for_full_recovery.append(mean_strands_reqd)\n",
    "        \n",
    "        \n",
    "        #print(edit_distance)\n",
    "        #print(recovery)\n",
    "        #print(align(candidate, original_strand, identity=False).format())\n",
    "        #print()"
   ]
  },
  {
   "cell_type": "code",
   "execution_count": null,
   "metadata": {},
   "outputs": [
    {
     "data": {
      "text/plain": [
       "Text(0.5, 1.0, 'Number of repeats required per coupling rate')"
      ]
     },
     "execution_count": 75,
     "metadata": {},
     "output_type": "execute_result"
    },
    {
     "data": {
      "image/png": "[encoded data removed]",
      "text/plain": [
       "<Figure size 640x480 with 1 Axes>"
      ]
     },
     "metadata": {},
     "output_type": "display_data"
    }
   ],
   "source": [
    "plt.plot(coupling_rates, n_repeats_for_full_recovery)\n",
    "plt.xlabel(\"Coupling rate\")\n",
    "plt.ylabel(\"Number of repeats required per strand\")\n",
    "plt.xticks(x_ticks)\n",
    "plt.yticks(y_ticks)\n",
    "plt.grid()\n",
    "plt.gca().invert_xaxis()\n",
    "plt.xlim(1, 0.90)\n",
    "plt.ylim(0, 95)\n",
    "plt.title(\"Number of repeats required per coupling rate\")"
   ]
  },
  {
   "cell_type": "markdown",
   "metadata": {},
   "source": [
    "### Using progressive alignment"
   ]
  },
  {
   "cell_type": "code",
   "execution_count": 25,
   "metadata": {},
   "outputs": [],
   "source": [
    "from strand_reconstruction import align"
   ]
  },
  {
   "cell_type": "code",
   "execution_count": 26,
   "metadata": {},
   "outputs": [],
   "source": [
    "original_strand = synthesis_model.strand"
   ]
  },
  {
   "cell_type": "code",
   "execution_count": 4,
   "metadata": {},
   "outputs": [
    {
     "ename": "NameError",
     "evalue": "name 'synthesis_model' is not defined",
     "output_type": "error",
     "traceback": [
      "\u001b[1;31m---------------------------------------------------------------------------\u001b[0m",
      "\u001b[1;31mNameError\u001b[0m                                 Traceback (most recent call last)",
      "Cell \u001b[1;32mIn[4], line 1\u001b[0m\n\u001b[1;32m----> 1\u001b[0m synth_strands \u001b[38;5;241m=\u001b[39m \u001b[43msynthesis_model\u001b[49m\u001b[38;5;241m.\u001b[39msimulate_synthesis()\n",
      "\u001b[1;31mNameError\u001b[0m: name 'synthesis_model' is not defined"
     ]
    }
   ],
   "source": [
    "synth_strands = synthesis_model.simulate_synthesis()"
   ]
  },
  {
   "cell_type": "code",
   "execution_count": null,
   "metadata": {},
   "outputs": [],
   "source": [
    "from Bio import Align"
   ]
  },
  {
   "cell_type": "code",
   "execution_count": 8,
   "metadata": {},
   "outputs": [
    {
     "ename": "NameError",
     "evalue": "name 'Align' is not defined",
     "output_type": "error",
     "traceback": [
      "\u001b[1;31m---------------------------------------------------------------------------\u001b[0m",
      "\u001b[1;31mNameError\u001b[0m                                 Traceback (most recent call last)",
      "Cell \u001b[1;32mIn[8], line 1\u001b[0m\n\u001b[1;32m----> 1\u001b[0m aligner \u001b[38;5;241m=\u001b[39m \u001b[43mAlign\u001b[49m\u001b[38;5;241m.\u001b[39mPairwiseAligner()\n",
      "\u001b[1;31mNameError\u001b[0m: name 'Align' is not defined"
     ]
    }
   ],
   "source": [
    "aligner = Align.PairwiseAligner()"
   ]
  },
  {
   "cell_type": "code",
   "execution_count": 9,
   "metadata": {},
   "outputs": [
    {
     "ename": "NameError",
     "evalue": "name 'synth_strands' is not defined",
     "output_type": "error",
     "traceback": [
      "\u001b[1;31m---------------------------------------------------------------------------\u001b[0m",
      "\u001b[1;31mNameError\u001b[0m                                 Traceback (most recent call last)",
      "Cell \u001b[1;32mIn[9], line 1\u001b[0m\n\u001b[1;32m----> 1\u001b[0m strand_i \u001b[38;5;241m=\u001b[39m \u001b[43msynth_strands\u001b[49m[\u001b[38;5;241m0\u001b[39m]\n\u001b[0;32m      3\u001b[0m \u001b[38;5;28;01mfor\u001b[39;00m i \u001b[38;5;129;01min\u001b[39;00m \u001b[38;5;28mrange\u001b[39m(\u001b[38;5;241m1\u001b[39m, \u001b[38;5;28mlen\u001b[39m(synth_strands)):\n\u001b[0;32m      4\u001b[0m     strand_i_ \u001b[38;5;241m=\u001b[39m aligner\u001b[38;5;241m.\u001b[39malign(synth_strands[i], strand_i)[\u001b[38;5;241m0\u001b[39m]\n",
      "\u001b[1;31mNameError\u001b[0m: name 'synth_strands' is not defined"
     ]
    }
   ],
   "source": [
    "strand_i = synth_strands[0]\n",
    "\n",
    "for i in range(1, len(synth_strands)):\n",
    "    strand_i_ = aligner.align(synth_strands[i], strand_i)[0]\n",
    "    strand_i = strand_i_[0].replace('-', '')\n",
    "    print(strand_i_)\n",
    "    print(original_strand)\n",
    "    print(distance(strand_i, original_strand))\n",
    "    print()\n",
    "    "
   ]
  },
  {
   "cell_type": "code",
   "execution_count": 10,
   "metadata": {},
   "outputs": [],
   "source": [
    "def get_random_deletion_orientation(synthesized_strand, strand_length: int = 200):\n",
    "\n",
    "    deletion_strand = np.zeros(strand_length, dtype=str)\n",
    "\n",
    "    n_deletions = strand_length - len(synthesized_strand)\n",
    "\n",
    "    random_deletion_positions = set()\n",
    "    while len(random_deletion_positions) < n_deletions:\n",
    "        random_deletion_positions.add(np.random.randint(0, 200))\n",
    "\n",
    "    ptr = 0\n",
    "    for i in range(strand_length):\n",
    "        if i in random_deletion_positions:\n",
    "            deletion_strand[i] = '-'\n",
    "        else:\n",
    "            deletion_strand[i] = synthesized_strand[ptr]\n",
    "            ptr += 1\n",
    "\n",
    "    return deletion_strand\n",
    "    "
   ]
  },
  {
   "cell_type": "code",
   "execution_count": 11,
   "metadata": {},
   "outputs": [],
   "source": [
    "def check_orientation_validity(str1, str2):\n",
    "\n",
    "    for i in range(len(str1)):\n",
    "        if not str1[i] == '-' and not str2[i] == '-' and not str1[i] == str2[i]:\n",
    "            print(i)\n",
    "            print(str1[:i+1])\n",
    "            print(str2[:i+1])\n",
    "            print()\n",
    "            return False\n",
    "        \n",
    "    return True"
   ]
  },
  {
   "cell_type": "code",
   "execution_count": 12,
   "metadata": {},
   "outputs": [
    {
     "ename": "NameError",
     "evalue": "name 'synth_strands' is not defined",
     "output_type": "error",
     "traceback": [
      "\u001b[1;31m---------------------------------------------------------------------------\u001b[0m",
      "\u001b[1;31mNameError\u001b[0m                                 Traceback (most recent call last)",
      "Cell \u001b[1;32mIn[12], line 1\u001b[0m\n\u001b[1;32m----> 1\u001b[0m first_strand \u001b[38;5;241m=\u001b[39m get_random_deletion_orientation(\u001b[43msynth_strands\u001b[49m[\u001b[38;5;241m0\u001b[39m])\n\u001b[0;32m      2\u001b[0m \u001b[38;5;28;01mfor\u001b[39;00m i \u001b[38;5;129;01min\u001b[39;00m \u001b[38;5;28mrange\u001b[39m(\u001b[38;5;241m1\u001b[39m, \u001b[38;5;28mlen\u001b[39m(synth_strands)):\n\u001b[0;32m      4\u001b[0m     permutation \u001b[38;5;241m=\u001b[39m \u001b[38;5;241m1\u001b[39m\n",
      "\u001b[1;31mNameError\u001b[0m: name 'synth_strands' is not defined"
     ]
    }
   ],
   "source": [
    "\n",
    "first_strand = get_random_deletion_orientation(synth_strands[0])\n",
    "for i in range(1, len(synth_strands)):\n",
    "    \n",
    "    permutation = 1\n",
    "    next_strand = get_random_deletion_orientation(synth_strands[i])\n",
    "    while(not check_orientation_validity(first_strand, next_strand)):\n",
    "        next_strand = get_random_deletion_orientation(synth_strands[i])\n",
    "        permutation += 1\n",
    "\n",
    "    print(\"Took {permutation} permutations\")\n",
    "    "
   ]
  },
  {
   "cell_type": "code",
   "execution_count": 13,
   "metadata": {},
   "outputs": [],
   "source": [
    "\n",
    "def get_base_counts(position_predictions):\n",
    "    bases, counts = np.unique(position_predictions, return_counts=True)\n",
    "    return bases[np.argmax(counts)]"
   ]
  },
  {
   "cell_type": "code",
   "execution_count": 14,
   "metadata": {},
   "outputs": [
    {
     "ename": "NameError",
     "evalue": "name 'synthesis_model' is not defined",
     "output_type": "error",
     "traceback": [
      "\u001b[1;31m---------------------------------------------------------------------------\u001b[0m",
      "\u001b[1;31mNameError\u001b[0m                                 Traceback (most recent call last)",
      "Cell \u001b[1;32mIn[14], line 1\u001b[0m\n\u001b[1;32m----> 1\u001b[0m \u001b[43msynthesis_model\u001b[49m\u001b[38;5;241m.\u001b[39mrepeats \u001b[38;5;241m=\u001b[39m \u001b[38;5;241m10000\u001b[39m\n",
      "\u001b[1;31mNameError\u001b[0m: name 'synthesis_model' is not defined"
     ]
    }
   ],
   "source": [
    "synthesis_model.repeats = 10000"
   ]
  },
  {
   "cell_type": "code",
   "execution_count": 15,
   "metadata": {},
   "outputs": [
    {
     "ename": "NameError",
     "evalue": "name 'synthesis_model' is not defined",
     "output_type": "error",
     "traceback": [
      "\u001b[1;31m---------------------------------------------------------------------------\u001b[0m",
      "\u001b[1;31mNameError\u001b[0m                                 Traceback (most recent call last)",
      "Cell \u001b[1;32mIn[15], line 1\u001b[0m\n\u001b[1;32m----> 1\u001b[0m \u001b[43msynthesis_model\u001b[49m\u001b[38;5;241m.\u001b[39mcoupling_rate\n",
      "\u001b[1;31mNameError\u001b[0m: name 'synthesis_model' is not defined"
     ]
    }
   ],
   "source": [
    "synthesis_model.coupling_rate"
   ]
  },
  {
   "cell_type": "code",
   "execution_count": 16,
   "metadata": {},
   "outputs": [
    {
     "ename": "NameError",
     "evalue": "name 'synth_strands' is not defined",
     "output_type": "error",
     "traceback": [
      "\u001b[1;31m---------------------------------------------------------------------------\u001b[0m",
      "\u001b[1;31mNameError\u001b[0m                                 Traceback (most recent call last)",
      "Cell \u001b[1;32mIn[16], line 1\u001b[0m\n\u001b[1;32m----> 1\u001b[0m \u001b[43msynth_strands\u001b[49m\n",
      "\u001b[1;31mNameError\u001b[0m: name 'synth_strands' is not defined"
     ]
    }
   ],
   "source": [
    "synth_strands"
   ]
  },
  {
   "cell_type": "code",
   "execution_count": 17,
   "metadata": {},
   "outputs": [
    {
     "ename": "NameError",
     "evalue": "name 'synthesis_model' is not defined",
     "output_type": "error",
     "traceback": [
      "\u001b[1;31m---------------------------------------------------------------------------\u001b[0m",
      "\u001b[1;31mNameError\u001b[0m                                 Traceback (most recent call last)",
      "Cell \u001b[1;32mIn[17], line 1\u001b[0m\n\u001b[1;32m----> 1\u001b[0m synth_strands \u001b[38;5;241m=\u001b[39m \u001b[43msynthesis_model\u001b[49m\u001b[38;5;241m.\u001b[39msimulate_synthesis()\n",
      "\u001b[1;31mNameError\u001b[0m: name 'synthesis_model' is not defined"
     ]
    }
   ],
   "source": [
    "synth_strands = synthesis_model.simulate_synthesis()"
   ]
  },
  {
   "cell_type": "code",
   "execution_count": 18,
   "metadata": {},
   "outputs": [
    {
     "ename": "NameError",
     "evalue": "name 'synthesis_model' is not defined",
     "output_type": "error",
     "traceback": [
      "\u001b[1;31m---------------------------------------------------------------------------\u001b[0m",
      "\u001b[1;31mNameError\u001b[0m                                 Traceback (most recent call last)",
      "Cell \u001b[1;32mIn[18], line 1\u001b[0m\n\u001b[1;32m----> 1\u001b[0m original_strand \u001b[38;5;241m=\u001b[39m \u001b[43msynthesis_model\u001b[49m\u001b[38;5;241m.\u001b[39mstrand\n",
      "\u001b[1;31mNameError\u001b[0m: name 'synthesis_model' is not defined"
     ]
    }
   ],
   "source": [
    "original_strand = synthesis_model.strand"
   ]
  },
  {
   "cell_type": "code",
   "execution_count": 19,
   "metadata": {},
   "outputs": [
    {
     "ename": "NameError",
     "evalue": "name 'original_strand' is not defined",
     "output_type": "error",
     "traceback": [
      "\u001b[1;31m---------------------------------------------------------------------------\u001b[0m",
      "\u001b[1;31mNameError\u001b[0m                                 Traceback (most recent call last)",
      "Cell \u001b[1;32mIn[19], line 1\u001b[0m\n\u001b[1;32m----> 1\u001b[0m \u001b[43moriginal_strand\u001b[49m\n",
      "\u001b[1;31mNameError\u001b[0m: name 'original_strand' is not defined"
     ]
    }
   ],
   "source": [
    "original_strand"
   ]
  },
  {
   "cell_type": "markdown",
   "metadata": {},
   "source": [
    "## Bitwise Majority Alignment"
   ]
  },
  {
   "cell_type": "code",
   "execution_count": 332,
   "metadata": {},
   "outputs": [],
   "source": [
    "import numpy as np\n",
    "from collections import Counter\n",
    "\n",
    "def handle_long_run_dna(traces, pointers, current_base, q):\n",
    "    \"\"\"\n",
    "    Handles a long run of a DNA base during alignment.\n",
    "    \"\"\"\n",
    "    observed_lengths = []\n",
    "\n",
    "    for trace, idx in zip(traces, pointers):\n",
    "        run_length = 0\n",
    "        while idx + run_length < len(trace) and trace[idx + run_length] == current_base:\n",
    "            run_length += 1\n",
    "        observed_lengths.append(run_length)\n",
    "    \n",
    "    observed_lengths.sort()\n",
    "    median_length = observed_lengths[len(observed_lengths) // 2]\n",
    "    estimated_true_length = int(round(median_length / (1 - q)))\n",
    "\n",
    "    updated_pointers = [idx + length for idx, length in zip(pointers, observed_lengths)]\n",
    "    estimated_run = current_base * estimated_true_length\n",
    "\n",
    "    return estimated_run, updated_pointers\n",
    "\n",
    "\n",
    "def majority_base_at_pointers(traces, pointers):\n",
    "    \"\"\"\n",
    "    Returns the majority base among all current pointer positions.\n",
    "    \"\"\"\n",
    "    current_bases = [\n",
    "        trace[idx] for trace, idx in zip(traces, pointers) if idx < len(trace)\n",
    "    ]\n",
    "    if not current_bases:\n",
    "        return None, 0\n",
    "    counter = Counter(current_bases)\n",
    "    majority_base, count = counter.most_common(1)[0]\n",
    "    return majority_base, count\n",
    "\n",
    "\n",
    "def reconstruct_dna_strand(traces, q, n):\n",
    "    \"\"\"\n",
    "    Reconstructs a DNA strand from multiple deletion-corrupted traces.\n",
    "    \"\"\"\n",
    "    reconstructed = []\n",
    "    pointers = [0] * len(traces)\n",
    "    sqrt_n = int(np.sqrt(n))\n",
    "\n",
    "    while len(reconstructed) < n:\n",
    "        majority_base, count = majority_base_at_pointers(traces, pointers)\n",
    "        if majority_base is None:\n",
    "            break  # All pointers have reached the end\n",
    "\n",
    "        # Check if it's a long run\n",
    "        run_lengths = []\n",
    "        for trace, idx in zip(traces, pointers):\n",
    "            run_length = 0\n",
    "            while idx + run_length < len(trace) and trace[idx + run_length] == majority_base:\n",
    "                run_length += 1\n",
    "            run_lengths.append(run_length)\n",
    "\n",
    "        long_run_detected = sum(length >= sqrt_n for length in run_lengths) >= len(traces) // 2\n",
    "\n",
    "        if long_run_detected:\n",
    "            # Use long run handler\n",
    "            estimated_run, pointers = handle_long_run_dna(traces, pointers, majority_base, q)\n",
    "            reconstructed.append(estimated_run)\n",
    "        else:\n",
    "            # Use majority vote for one base\n",
    "            reconstructed.append(majority_base)\n",
    "            for i in range(len(traces)):\n",
    "                if pointers[i] < len(traces[i]) and traces[i][pointers[i]] == majority_base:\n",
    "                    pointers[i] += 1\n",
    "\n",
    "    return ''.join(reconstructed[:n])\n"
   ]
  },
  {
   "cell_type": "code",
   "execution_count": 325,
   "metadata": {},
   "outputs": [],
   "source": [
    "def get_top_n_percent_reads(synth_strands, n=90):\n",
    "\n",
    "    lens = [len(i) for i in synth_strands]\n",
    "    percentile = np.percentile(lens, n)\n",
    "\n",
    "    return [i for i in synth_strands if len(i) >= percentile]\n",
    "\n",
    "def bidirectional_alignment(traces, q, n, filter_percentile=90):\n",
    "\n",
    "    traces = get_top_n_percent_reads(traces, filter_percentile)\n",
    "\n",
    "    forward_strand = reconstruct_dna_strand(traces, q, n)\n",
    "    reverse_strand = reconstruct_dna_strand([i[::-1] for i in traces], q, n)[::-1]\n",
    "\n",
    "    return forward_strand[:int(n / 2)] + reverse_strand[int(n / 2):]\n",
    "    #return forward_strand"
   ]
  },
  {
   "cell_type": "code",
   "execution_count": 326,
   "metadata": {},
   "outputs": [],
   "source": [
    "synthesis_model.coupling_rate = 0.8\n",
    "synthesis_model.repeats = 1000"
   ]
  },
  {
   "cell_type": "code",
   "execution_count": 327,
   "metadata": {},
   "outputs": [],
   "source": [
    "synth_strands = synthesis_model.simulate_synthesis()"
   ]
  },
  {
   "cell_type": "code",
   "execution_count": 328,
   "metadata": {},
   "outputs": [],
   "source": [
    "original_strand = synthesis_model.strand"
   ]
  },
  {
   "cell_type": "code",
   "execution_count": 329,
   "metadata": {},
   "outputs": [],
   "source": [
    "traces = get_top_n_percent_reads(synth_strands, 10)\n",
    "\n",
    "forward_strand = reconstruct_dna_strand(traces, 0.2, 200)\n",
    "reverse_strand = reconstruct_dna_strand([i[::-1] for i in traces], 0.2, 200)[::-1]\n",
    "\n",
    "strand = forward_strand[:int(200 / 2)] + reverse_strand[int(200 / 2):]"
   ]
  },
  {
   "cell_type": "code",
   "execution_count": 330,
   "metadata": {},
   "outputs": [
    {
     "data": {
      "text/plain": [
       "11"
      ]
     },
     "execution_count": 330,
     "metadata": {},
     "output_type": "execute_result"
    }
   ],
   "source": [
    "distance(strand, original_strand)"
   ]
  },
  {
   "cell_type": "code",
   "execution_count": null,
   "metadata": {},
   "outputs": [
    {
     "name": "stdout",
     "output_type": "stream",
     "text": [
      "0\n"
     ]
    }
   ],
   "source": [
    "synthesis_model = NaiveSynthesisModel(\n",
    "            coupling_rate=0.8, strand_length=200, repeats=10000, capping=False)\n",
    "original_strand = synthesis_model.strand\n",
    "synth_strands = synthesis_model.simulate_synthesis()\n",
    "strand = bidirectional_alignment(synth_strands, 0.2, 200, filter_percentile=0)\n",
    "print(distance(strand, original_strand))\n"
   ]
  },
  {
   "cell_type": "code",
   "execution_count": 143,
   "metadata": {},
   "outputs": [],
   "source": [
    "coupling_rates = [0.99, 0.975, 0.95, 0.925, 0.9, 0.875, 0.85, 0.825, 0.8]"
   ]
  },
  {
   "cell_type": "code",
   "execution_count": 147,
   "metadata": {},
   "outputs": [
    {
     "data": {
      "application/vnd.jupyter.widget-view+json": {
       "model_id": "a81e90a813474a059df8a4d124fd7351",
       "version_major": 2,
       "version_minor": 0
      },
      "text/plain": [
       "  0%|          | 0/200 [00:00<?, ?it/s]"
      ]
     },
     "metadata": {},
     "output_type": "display_data"
    },
    {
     "name": "stdout",
     "output_type": "stream",
     "text": [
      "Repeats = 1, Distance = 10.62, CR = 0.990000\n",
      "Repeats = 101, Distance = 0.0, CR = 0.990000\n",
      "\n"
     ]
    },
    {
     "data": {
      "application/vnd.jupyter.widget-view+json": {
       "model_id": "6c09202429ab4614b423cecf6f625b3e",
       "version_major": 2,
       "version_minor": 0
      },
      "text/plain": [
       "  0%|          | 0/200 [00:00<?, ?it/s]"
      ]
     },
     "metadata": {},
     "output_type": "display_data"
    },
    {
     "name": "stdout",
     "output_type": "stream",
     "text": [
      "Repeats = 1, Distance = 13.1, CR = 0.975000\n",
      "Repeats = 101, Distance = 0.0, CR = 0.975000\n",
      "\n"
     ]
    },
    {
     "data": {
      "application/vnd.jupyter.widget-view+json": {
       "model_id": "a167b19987dc4a0a986ca4454ddb9f2a",
       "version_major": 2,
       "version_minor": 0
      },
      "text/plain": [
       "  0%|          | 0/200 [00:00<?, ?it/s]"
      ]
     },
     "metadata": {},
     "output_type": "display_data"
    },
    {
     "name": "stdout",
     "output_type": "stream",
     "text": [
      "Repeats = 1, Distance = 16.02, CR = 0.950000\n",
      "Repeats = 101, Distance = 0.0, CR = 0.950000\n",
      "\n"
     ]
    },
    {
     "data": {
      "application/vnd.jupyter.widget-view+json": {
       "model_id": "2fc81ca0a9ae4c8e8a281c6fae6b1db4",
       "version_major": 2,
       "version_minor": 0
      },
      "text/plain": [
       "  0%|          | 0/200 [00:00<?, ?it/s]"
      ]
     },
     "metadata": {},
     "output_type": "display_data"
    },
    {
     "name": "stdout",
     "output_type": "stream",
     "text": [
      "Repeats = 1, Distance = 20.02, CR = 0.925000\n",
      "Repeats = 101, Distance = 0.0, CR = 0.925000\n",
      "\n"
     ]
    },
    {
     "data": {
      "application/vnd.jupyter.widget-view+json": {
       "model_id": "91d4a8dd722749ada53209ab36aff84a",
       "version_major": 2,
       "version_minor": 0
      },
      "text/plain": [
       "  0%|          | 0/200 [00:00<?, ?it/s]"
      ]
     },
     "metadata": {},
     "output_type": "display_data"
    },
    {
     "name": "stdout",
     "output_type": "stream",
     "text": [
      "Repeats = 1, Distance = 24.3, CR = 0.900000\n",
      "Repeats = 101, Distance = 0.0, CR = 0.900000\n",
      "\n"
     ]
    },
    {
     "data": {
      "application/vnd.jupyter.widget-view+json": {
       "model_id": "6b2da623c19b48b79c669909b8e9d820",
       "version_major": 2,
       "version_minor": 0
      },
      "text/plain": [
       "  0%|          | 0/200 [00:00<?, ?it/s]"
      ]
     },
     "metadata": {},
     "output_type": "display_data"
    },
    {
     "name": "stdout",
     "output_type": "stream",
     "text": [
      "Repeats = 1, Distance = 28.28, CR = 0.875000\n",
      "Repeats = 101, Distance = 2.32, CR = 0.875000\n",
      "Repeats = 201, Distance = 1.48, CR = 0.875000\n",
      "Repeats = 301, Distance = 1.12, CR = 0.875000\n",
      "Repeats = 401, Distance = 1.72, CR = 0.875000\n",
      "Repeats = 501, Distance = 2.46, CR = 0.875000\n",
      "Repeats = 601, Distance = 0.9, CR = 0.875000\n",
      "\n"
     ]
    },
    {
     "data": {
      "application/vnd.jupyter.widget-view+json": {
       "model_id": "acef6be415b94f89aa1dc1129d6edd58",
       "version_major": 2,
       "version_minor": 0
      },
      "text/plain": [
       "  0%|          | 0/200 [00:00<?, ?it/s]"
      ]
     },
     "metadata": {},
     "output_type": "display_data"
    },
    {
     "name": "stdout",
     "output_type": "stream",
     "text": [
      "Repeats = 1, Distance = 32.82, CR = 0.850000\n",
      "Repeats = 101, Distance = 8.56, CR = 0.850000\n",
      "Repeats = 201, Distance = 6.46, CR = 0.850000\n",
      "Repeats = 301, Distance = 5.26, CR = 0.850000\n",
      "Repeats = 401, Distance = 4.82, CR = 0.850000\n",
      "Repeats = 501, Distance = 7.04, CR = 0.850000\n",
      "Repeats = 601, Distance = 6.74, CR = 0.850000\n",
      "Repeats = 701, Distance = 5.94, CR = 0.850000\n",
      "Repeats = 801, Distance = 5.16, CR = 0.850000\n",
      "Repeats = 901, Distance = 4.02, CR = 0.850000\n",
      "Repeats = 1001, Distance = 5.1, CR = 0.850000\n",
      "Repeats = 1101, Distance = 4.66, CR = 0.850000\n",
      "Repeats = 1201, Distance = 7.84, CR = 0.850000\n"
     ]
    },
    {
     "ename": "KeyboardInterrupt",
     "evalue": "",
     "output_type": "error",
     "traceback": [
      "\u001b[1;31m---------------------------------------------------------------------------\u001b[0m",
      "\u001b[1;31mKeyboardInterrupt\u001b[0m                         Traceback (most recent call last)",
      "Cell \u001b[1;32mIn[147], line 13\u001b[0m\n\u001b[0;32m     10\u001b[0m synthesis_model \u001b[38;5;241m=\u001b[39m NaiveSynthesisModel(\n\u001b[0;32m     11\u001b[0m     coupling_rate\u001b[38;5;241m=\u001b[39mcr, strand_length\u001b[38;5;241m=\u001b[39m\u001b[38;5;241m200\u001b[39m, repeats\u001b[38;5;241m=\u001b[39mi, capping\u001b[38;5;241m=\u001b[39m\u001b[38;5;28;01mFalse\u001b[39;00m)\n\u001b[0;32m     12\u001b[0m original_strand \u001b[38;5;241m=\u001b[39m synthesis_model\u001b[38;5;241m.\u001b[39mstrand\n\u001b[1;32m---> 13\u001b[0m synth_strands \u001b[38;5;241m=\u001b[39m \u001b[43msynthesis_model\u001b[49m\u001b[38;5;241;43m.\u001b[39;49m\u001b[43msimulate_synthesis\u001b[49m\u001b[43m(\u001b[49m\u001b[43m)\u001b[49m\n\u001b[0;32m     14\u001b[0m strand \u001b[38;5;241m=\u001b[39m bidirectional_alignment(synth_strands, \u001b[38;5;241m0.2\u001b[39m, \u001b[38;5;241m200\u001b[39m, filter_percentile\u001b[38;5;241m=\u001b[39m\u001b[38;5;241m0\u001b[39m)\n\u001b[0;32m     15\u001b[0m repeat_distance \u001b[38;5;241m+\u001b[39m\u001b[38;5;241m=\u001b[39m distance(strand, original_strand)\n",
      "File \u001b[1;32mc:\\Users\\Parv\\Doc\\RA\\Projects\\clustering_dna_storage\\synthesis.py:34\u001b[0m, in \u001b[0;36mNaiveSynthesisModel.simulate_synthesis\u001b[1;34m(self, filepath, return_deletions)\u001b[0m\n\u001b[0;32m     32\u001b[0m \u001b[38;5;28;01mfor\u001b[39;00m j \u001b[38;5;129;01min\u001b[39;00m \u001b[38;5;28mrange\u001b[39m(\u001b[38;5;28mself\u001b[39m\u001b[38;5;241m.\u001b[39mstrand_length):\n\u001b[0;32m     33\u001b[0m     \u001b[38;5;28;01mif\u001b[39;00m np\u001b[38;5;241m.\u001b[39mrandom\u001b[38;5;241m.\u001b[39mrand() \u001b[38;5;241m<\u001b[39m \u001b[38;5;28mself\u001b[39m\u001b[38;5;241m.\u001b[39mcoupling_rate:\n\u001b[1;32m---> 34\u001b[0m         synthesizing_strand \u001b[38;5;241m+\u001b[39m\u001b[38;5;241m=\u001b[39m \u001b[38;5;28mself\u001b[39m\u001b[38;5;241m.\u001b[39mstrand[j]\n\u001b[0;32m     35\u001b[0m     \u001b[38;5;28;01melse\u001b[39;00m:\n\u001b[0;32m     36\u001b[0m         \u001b[38;5;28;01mif\u001b[39;00m \u001b[38;5;28mself\u001b[39m\u001b[38;5;241m.\u001b[39mcapping:\n",
      "\u001b[1;31mKeyboardInterrupt\u001b[0m: "
     ]
    }
   ],
   "source": [
    "repeats = np.arange(1, 20000, 100)\n",
    "sim_repeats = 50\n",
    "repeat_graphs_cr = {}\n",
    "\n",
    "for cr in coupling_rates:\n",
    "    repeat_distances = []\n",
    "    for i in tqdm(repeats):\n",
    "        repeat_distance = 0\n",
    "        for j in range(sim_repeats):\n",
    "            synthesis_model = NaiveSynthesisModel(\n",
    "                coupling_rate=cr, strand_length=200, repeats=i, capping=False)\n",
    "            original_strand = synthesis_model.strand\n",
    "            synth_strands = synthesis_model.simulate_synthesis()\n",
    "            strand = bidirectional_alignment(synth_strands, 0.2, 200, filter_percentile=0)\n",
    "            repeat_distance += distance(strand, original_strand)\n",
    "\n",
    "        avg_repeat_distance = repeat_distance / sim_repeats\n",
    "        print(f\"Repeats = {i}, Distance = {avg_repeat_distance}, CR = {cr:2f}\")\n",
    "        repeat_distances.append(avg_repeat_distance)\n",
    "        if avg_repeat_distance < 1:\n",
    "            print()\n",
    "            break\n",
    "\n",
    "    repeat_graphs_cr[cr] = repeat_distances"
   ]
  },
  {
   "cell_type": "code",
   "execution_count": 331,
   "metadata": {},
   "outputs": [
    {
     "name": "stdout",
     "output_type": "stream",
     "text": [
      "Repeats = 30000, Distance = 9.7, CR = 0.840000\n"
     ]
    }
   ],
   "source": [
    "# Let us fit by hand\n",
    "\n",
    "sim_repeats = 10\n",
    "repeat_graphs_cr = {}\n",
    "\n",
    "cr = 0.84\n",
    "repeats_ = 30000\n",
    "\n",
    "repeat_distance = 0\n",
    "for j in range(sim_repeats):\n",
    "    synthesis_model = NaiveSynthesisModel(\n",
    "        coupling_rate=cr, strand_length=200, repeats=repeats_, capping=False)\n",
    "    original_strand = synthesis_model.strand\n",
    "    synth_strands = synthesis_model.simulate_synthesis()\n",
    "    strand = bidirectional_alignment(synth_strands, 1 - cr, 200, filter_percentile=0.95)\n",
    "    repeat_distance += distance(strand, original_strand)\n",
    "\n",
    "avg_repeat_distance = repeat_distance / sim_repeats\n",
    "print(f\"Repeats = {repeats_}, Distance = {avg_repeat_distance}, CR = {cr:2f}\")\n",
    "repeat_distances.append(avg_repeat_distance)\n"
   ]
  },
  {
   "cell_type": "code",
   "execution_count": 46,
   "metadata": {},
   "outputs": [
    {
     "data": {
      "text/plain": [
       "'ATCGTTAGGCCACCAACGTTTTATCTGGCGTACGACATCCGCAGGCCAGCACCAAAGCGTAGGACTCTTAACACTCCCGCGATGTGAGCCCACACAGGCGGCGGACACACCCGAGTGTAGCGCCCTCACAATTCTCAGGATGCGAAACCACGACCGGACGCCTACAGCATGCGGTCTATTTTGCAACCACCGGATTGCTA'"
      ]
     },
     "execution_count": 46,
     "metadata": {},
     "output_type": "execute_result"
    }
   ],
   "source": [
    "strand"
   ]
  },
  {
   "cell_type": "code",
   "execution_count": 47,
   "metadata": {},
   "outputs": [
    {
     "data": {
      "text/plain": [
       "56"
      ]
     },
     "execution_count": 47,
     "metadata": {},
     "output_type": "execute_result"
    }
   ],
   "source": [
    "distance(strand, original_strand)"
   ]
  },
  {
   "cell_type": "code",
   "execution_count": 82,
   "metadata": {},
   "outputs": [
    {
     "name": "stdout",
     "output_type": "stream",
     "text": [
      "target            0 CCAATGTAGAGATCGACGTTGAAATTTTGCCTATCTATGGGGCATATGCAACCCTTCAGC\n",
      "                  0 ||||||||||||||||||||||||||||||||||||||||||||||||||||||||||||\n",
      "query             0 CCAATGTAGAGATCGACGTTGAAATTTTGCCTATCTATGGGGCATATGCAACCCTTCAGC\n",
      "\n",
      "target           60 AGGTTGACGTGCTGTGGATACTATGGGGGG-CCAACACAGTGTGTGGTCTCGGAGACACG\n",
      "                 60 ||||||||||||||||||||||||||||||-|||||||||||||||||-||||-||---|\n",
      "query            60 AGGTTGACGTGCTGTGGATACTATGGGGGGGCCAACACAGTGTGTGGT-TCGG-GA---G\n",
      "\n",
      "target          119 ATAACATTATGAGTGTGTCGGATGTTGCAGCTATGAAGAGCTAAAAAGTACCGGCGTCGG\n",
      "                120 |||||||||||||-|||||||||||||||||||||||-||||||||||||||||||||||\n",
      "query           115 ATAACATTATGAG-GTGTCGGATGTTGCAGCTATGAA-AGCTAAAAAGTACCGGCGTCGG\n",
      "\n",
      "target          179 CGGGGAGTCAGTCC-AGTGTGA-------- 200\n",
      "                180 |||||-|--|||||-|||||||-------- 210\n",
      "query           173 CGGGG-G--AGTCCCAGTGTGATAGCATAA 200\n",
      "\n"
     ]
    }
   ],
   "source": [
    "print(align(reconstructed_strand, original_strand))"
   ]
  },
  {
   "cell_type": "markdown",
   "metadata": {},
   "source": []
  },
  {
   "cell_type": "code",
   "execution_count": 83,
   "metadata": {},
   "outputs": [],
   "source": [
    "reversed_strands = [i[::-1] for i in synth_strands]"
   ]
  },
  {
   "cell_type": "code",
   "execution_count": 89,
   "metadata": {},
   "outputs": [],
   "source": [
    "reversed_reconstruction = reconstruct_dna_strand([i for i in reversed_strands if len(i) > 172], 0.2, 200)"
   ]
  },
  {
   "cell_type": "code",
   "execution_count": 90,
   "metadata": {},
   "outputs": [
    {
     "data": {
      "text/plain": [
       "'AATACGATAGTGTGACCCTGAGGGGGCGGCTGCGGCCATGAAAAATCGAAAGTATCGACGTTGTAGGCTGTGGAGTATTACAATAGAGGGCTTGGTGTGTGACACAACCGGGGGGTATCATGAGTGTGTCGTGCAGTTGGACGACTTCCACAGACGTATACGGGTGTACTCTATCGTCGTTTAAAGTTGCAGCTAGAGTA'"
      ]
     },
     "execution_count": 90,
     "metadata": {},
     "output_type": "execute_result"
    }
   ],
   "source": [
    "reversed_reconstruction"
   ]
  },
  {
   "cell_type": "code",
   "execution_count": 91,
   "metadata": {},
   "outputs": [],
   "source": [
    "reversed_reconstruction = reversed_reconstruction[::-1]"
   ]
  },
  {
   "cell_type": "code",
   "execution_count": 92,
   "metadata": {},
   "outputs": [
    {
     "data": {
      "text/plain": [
       "16"
      ]
     },
     "execution_count": 92,
     "metadata": {},
     "output_type": "execute_result"
    }
   ],
   "source": [
    "distance(reversed_reconstruction, original_strand)"
   ]
  },
  {
   "cell_type": "code",
   "execution_count": 95,
   "metadata": {},
   "outputs": [
    {
     "name": "stdout",
     "output_type": "stream",
     "text": [
      "target            0 CCAATGTAGAGATCGACGTTGAAATTTTGCCTATCTATGGGGCATATGCAACCCTTCAGC\n",
      "                  0 ||||||||||||||||||||||||||||||||||||||||||||||||||||||||||||\n",
      "query             0 CCAATGTAGAGATCGACGTTGAAATTTTGCCTATCTATGGGGCATATGCAACCCTTCAGC\n",
      "\n",
      "target           60 AGGTTGACGTGCTGTGGATACTATGGGGGG-CCAACACAGTGTGTGGTCTCGGAGACACG\n",
      "                 60 ||||||||||||||||||||||||||||||-|||||||||||||||||-||||-||---|\n",
      "query            60 AGGTTGACGTGCTGTGGATACTATGGGGGGGCCAACACAGTGTGTGGT-TCGG-GA---G\n",
      "\n",
      "target          119 ATAACATTATGAGTGTGTCGGATGTTGCAGCTATGAAGAGCTAAAAAGTACCGGCGTCGG\n",
      "                120 |||||||||||||-|||||||||||||||||||||||-||||||||||||||||||||||\n",
      "query           115 ATAACATTATGAG-GTGTCGGATGTTGCAGCTATGAA-AGCTAAAAAGTACCGGCGTCGG\n",
      "\n",
      "target          179 CGGGGAGTCAGTCC-AGTGTGA-------- 200\n",
      "                180 |||||-|--|||||-|||||||-------- 210\n",
      "query           173 CGGGG-G--AGTCCCAGTGTGATAGCATAA 200\n",
      "\n"
     ]
    }
   ],
   "source": [
    "print(align(reconstructed_strand, original_strand))"
   ]
  },
  {
   "cell_type": "code",
   "execution_count": 93,
   "metadata": {},
   "outputs": [
    {
     "name": "stdout",
     "output_type": "stream",
     "text": [
      "target            0 --A-TG-AGA--TCGACGTTGAAATTTGCTGC-TATCTCATGTGGGCATATGCAGACACC\n",
      "                  0 --|-||-|||--|||||||||||||||--|||-|||||-|||-|||||||||||-||-||\n",
      "query             0 CCAATGTAGAGATCGACGTTGAAATTT--TGCCTATCT-ATG-GGGCATATGCA-AC-CC\n",
      "\n",
      "target           53 TTCAGCAGGTTGACGTGCTGTGTGAGTACTATGGGGGG-CCAACACAGTGTGTGGTTCGG\n",
      "                 60 ||||||||||||||||||||||-||-||||||||||||-|||||||||||||||||||||\n",
      "query            54 TTCAGCAGGTTGACGTGCTGTG-GA-TACTATGGGGGGGCCAACACAGTGTGTGGTTCGG\n",
      "\n",
      "target          112 GAGATAACATTATGAGGTGTCGGATGTTGCAGCTATGAAAGCTAAAAAGTACCGGCGTCG\n",
      "                120 ||||||||||||||||||||||||||||||||||||||||||||||||||||||||||||\n",
      "query           112 GAGATAACATTATGAGGTGTCGGATGTTGCAGCTATGAAAGCTAAAAAGTACCGGCGTCG\n",
      "\n",
      "target          172 GCGGGGGAGTCCCAGTGTGATAGCATAA 200\n",
      "                180 |||||||||||||||||||||||||||| 208\n",
      "query           172 GCGGGGGAGTCCCAGTGTGATAGCATAA 200\n",
      "\n"
     ]
    }
   ],
   "source": [
    "print(align(reversed_reconstruction, original_strand))"
   ]
  },
  {
   "cell_type": "code",
   "execution_count": 94,
   "metadata": {},
   "outputs": [
    {
     "name": "stdout",
     "output_type": "stream",
     "text": [
      "target            0 CCAATGTAGAGATCGACGTTGAAATTT--TGCCTATCT-ATG-GGGCATATGCA-AC-CC\n",
      "                  0 --|-||-|||--|||||||||||||||--|||-|||||-|||-|||||||||||-||-||\n",
      "query             0 --A-TG-AGA--TCGACGTTGAAATTTGCTGC-TATCTCATGTGGGCATATGCAGACACC\n",
      "\n",
      "target           54 TTCAGCAGGTTGACGTGCTGTG-GA-TACTATGGGGGGCCAACACAGTGTGTGGTCTCGG\n",
      "                 60 ||||||||||||||||||||||-||-|||||||||||||||||||||||||||||-||||\n",
      "query            53 TTCAGCAGGTTGACGTGCTGTGTGAGTACTATGGGGGGCCAACACAGTGTGTGGT-TCGG\n",
      "\n",
      "target          112 AGACACGATAACATTATGAGTGTGTCGGATGTTGCAGCTATGAAGAGCTAAAAAGTACCG\n",
      "                120 -||---||||||||||||||-|||||||||||||||||||||||-|||||||||||||||\n",
      "query           112 -GA---GATAACATTATGAG-GTGTCGGATGTTGCAGCTATGAA-AGCTAAAAAGTACCG\n",
      "\n",
      "target          172 GCGTCGGCGGGGAGTCAGTCC-AGTGTGA-------- 200\n",
      "                180 ||||||||||||-|--|||||-|||||||-------- 217\n",
      "query           166 GCGTCGGCGGGG-G--AGTCCCAGTGTGATAGCATAA 200\n",
      "\n"
     ]
    }
   ],
   "source": [
    "print(align(reconstructed_strand, reversed_reconstruction))"
   ]
  },
  {
   "cell_type": "code",
   "execution_count": 97,
   "metadata": {},
   "outputs": [],
   "source": [
    "merged_strand = reconstructed_strand[:100] + reversed_reconstruction[100:]"
   ]
  },
  {
   "cell_type": "code",
   "execution_count": 98,
   "metadata": {},
   "outputs": [
    {
     "data": {
      "text/plain": [
       "2"
      ]
     },
     "execution_count": 98,
     "metadata": {},
     "output_type": "execute_result"
    }
   ],
   "source": [
    "distance(merged_strand, original_strand)"
   ]
  },
  {
   "cell_type": "code",
   "execution_count": 337,
   "metadata": {},
   "outputs": [],
   "source": [
    "coupling_rates = np.arange(0.99, 0.85, -0.01)"
   ]
  },
  {
   "cell_type": "code",
   "execution_count": 338,
   "metadata": {},
   "outputs": [],
   "source": [
    "repeats = [\n",
    "    5, 9, 11, 15, 18, 25, 35, 50, 67, 75, 110, 500, 5000, 18000, 26000\n",
    "]"
   ]
  },
  {
   "cell_type": "code",
   "execution_count": 349,
   "metadata": {},
   "outputs": [
    {
     "data": {
      "text/plain": [
       "Text(0.5, 1.0, 'Number of repeats required per coupling rate at synthesis')"
      ]
     },
     "execution_count": 349,
     "metadata": {},
     "output_type": "execute_result"
    },
    {
     "data": {
      "image/png": "[encoded data removed]",
      "text/plain": [
       "<Figure size 640x480 with 1 Axes>"
      ]
     },
     "metadata": {},
     "output_type": "display_data"
    }
   ],
   "source": [
    "plt.plot(coupling_rates[6:], repeats[6:])\n",
    "plt.gca().invert_xaxis()\n",
    "plt.grid()\n",
    "plt.yticks(np.arange(0, 27000, 2000))\n",
    "plt.xlabel(\"Coupling rate\")\n",
    "plt.ylabel(\"Number of repeats\")\n",
    "plt.title(\"Number of repeats required per coupling rate at synthesis\")"
   ]
  },
  {
   "cell_type": "code",
   "execution_count": null,
   "metadata": {},
   "outputs": [],
   "source": []
  }
 ],
 "metadata": {
  "kernelspec": {
   "display_name": "pytorch_gpu",
   "language": "python",
   "name": "python3"
  },
  "language_info": {
   "codemirror_mode": {
    "name": "ipython",
    "version": 3
   },
   "file_extension": ".py",
   "mimetype": "text/x-python",
   "name": "python",
   "nbconvert_exporter": "python",
   "pygments_lexer": "ipython3",
   "version": "3.12.3"
  }
 },
 "nbformat": 4,
 "nbformat_minor": 2
}
