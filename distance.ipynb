{
 "cells": [
  {
   "cell_type": "markdown",
   "id": "0a5f96fc",
   "metadata": {},
   "source": [
    "Implementing string matching for DNA sequences"
   ]
  },
  {
   "cell_type": "code",
   "execution_count": 1,
   "id": "cd0ceefc",
   "metadata": {},
   "outputs": [],
   "source": [
    "from Levenshtein import distance\n",
    "import numpy as np\n",
    "from utils import create_random_strand"
   ]
  },
  {
   "cell_type": "code",
   "execution_count": null,
   "id": "050ef88d",
   "metadata": {},
   "outputs": [],
   "source": [
    "\n",
    "\n",
    "def lev_distance(a, b):\n",
    "    # Wagner fisher algorithm\n",
    "\n",
    "    c = np.zeros((len(a), len(b)), dtype=int)\n",
    "\n",
    "    for i in range(len(a)):\n",
    "        c[i, 0] = i\n",
    "\n",
    "    for i in range(len(b)):\n",
    "        c[0, i] = i\n",
    "\n",
    "\n",
    "    for i in range(1, len(a)):\n",
    "        for j in range(1, len(b)):\n",
    "\n",
    "            subsitution_cost = 0 if a[i] == b[j] else 1\n",
    "\n",
    "            c[i, j] = min(\n",
    "                c[i-1, j-1] + subsitution_cost,\n",
    "                c[i-1, j] + 1,\n",
    "                c[i, j-1] + 1\n",
    "            )\n",
    "\n",
    "    return c[i, j]\n",
    "\n"
   ]
  },
  {
   "cell_type": "code",
   "execution_count": 46,
   "id": "21fd95f3",
   "metadata": {},
   "outputs": [],
   "source": [
    "def sequence_alignment(a, b, match_score=1, mismatch_score=-1, gap_score=-1):\n",
    "    \"\"\"Traceback - 1 - diagonal, 2 - left, 3 - up\"\"\"\n",
    "\n",
    "    score = np.zeros((len(a) + 1, len(b) + 1), dtype=int)\n",
    "    traceback = np.zeros((len(a), len(b)), dtype=int)\n",
    "\n",
    "    for i in range(len(a)):\n",
    "        score[i, 0] = i * gap_score\n",
    "        traceback[i, 0] = 3 if i > 0 else 0\n",
    "\n",
    "    for i in range(len(b)):\n",
    "        score[0, i] = (i * gap_score)\n",
    "        traceback[0, i] = 2 if i > 0 else 0\n",
    "\n",
    "    for i in range(1, len(a)):\n",
    "        for j in range(1, len(b)):\n",
    "            \n",
    "            print(i, j)\n",
    "            print(a[i], b[j])\n",
    "            subsitution_cost = match_score if a[i] == b[j] else mismatch_score\n",
    "            print(subsitution_cost)\n",
    "\n",
    "            comparision_list = [\n",
    "                score[i-1, j-1] + subsitution_cost,\n",
    "                score[i - 1, j] + gap_score,\n",
    "                score[i, j - 1] + gap_score\n",
    "            ]\n",
    "            print(comparision_list)\n",
    "            print()\n",
    "\n",
    "            cell_score = max(comparision_list)\n",
    "\n",
    "            score[i, j] = cell_score\n",
    "            traceback[i, j] = comparision_list.index(cell_score) + 1\n",
    "\n",
    "    return score, traceback\n"
   ]
  },
  {
   "cell_type": "code",
   "execution_count": 43,
   "id": "3df45a6c",
   "metadata": {},
   "outputs": [],
   "source": [
    "t = \"GCATGCG\"\n",
    "s = \"GATTACA\""
   ]
  },
  {
   "cell_type": "code",
   "execution_count": 44,
   "id": "d4497c70",
   "metadata": {},
   "outputs": [],
   "source": [
    "dis = lev_distance(t, s)"
   ]
  },
  {
   "cell_type": "code",
   "execution_count": 45,
   "id": "d008e14d",
   "metadata": {},
   "outputs": [
    {
     "name": "stdout",
     "output_type": "stream",
     "text": [
      "1 1\n",
      "C A\n",
      "-1\n",
      "[np.int64(-1), np.int64(-2), np.int64(-2)]\n",
      "\n",
      "1 2\n",
      "C T\n",
      "-1\n",
      "[np.int64(-2), np.int64(-3), np.int64(-2)]\n",
      "\n",
      "1 3\n",
      "C T\n",
      "-1\n",
      "[np.int64(-3), np.int64(-4), np.int64(-3)]\n",
      "\n",
      "1 4\n",
      "C A\n",
      "-1\n",
      "[np.int64(-4), np.int64(-5), np.int64(-4)]\n",
      "\n",
      "1 5\n",
      "C C\n",
      "1\n",
      "[np.int64(-3), np.int64(-6), np.int64(-5)]\n",
      "\n",
      "1 6\n",
      "C A\n",
      "-1\n",
      "[np.int64(-6), np.int64(-7), np.int64(-4)]\n",
      "\n",
      "2 1\n",
      "A A\n",
      "1\n",
      "[np.int64(0), np.int64(-2), np.int64(-3)]\n",
      "\n",
      "2 2\n",
      "A T\n",
      "-1\n",
      "[np.int64(-2), np.int64(-3), np.int64(-1)]\n",
      "\n",
      "2 3\n",
      "A T\n",
      "-1\n",
      "[np.int64(-3), np.int64(-4), np.int64(-2)]\n",
      "\n",
      "2 4\n",
      "A A\n",
      "1\n",
      "[np.int64(-2), np.int64(-5), np.int64(-3)]\n",
      "\n",
      "2 5\n",
      "A C\n",
      "-1\n",
      "[np.int64(-5), np.int64(-4), np.int64(-3)]\n",
      "\n",
      "2 6\n",
      "A A\n",
      "1\n",
      "[np.int64(-2), np.int64(-5), np.int64(-4)]\n",
      "\n",
      "3 1\n",
      "T A\n",
      "-1\n",
      "[np.int64(-3), np.int64(-1), np.int64(-4)]\n",
      "\n",
      "3 2\n",
      "T T\n",
      "1\n",
      "[np.int64(1), np.int64(-2), np.int64(-2)]\n",
      "\n",
      "3 3\n",
      "T T\n",
      "1\n",
      "[np.int64(0), np.int64(-3), np.int64(0)]\n",
      "\n",
      "3 4\n",
      "T A\n",
      "-1\n",
      "[np.int64(-3), np.int64(-3), np.int64(-1)]\n",
      "\n",
      "3 5\n",
      "T C\n",
      "-1\n",
      "[np.int64(-3), np.int64(-4), np.int64(-2)]\n",
      "\n",
      "3 6\n",
      "T A\n",
      "-1\n",
      "[np.int64(-4), np.int64(-3), np.int64(-3)]\n",
      "\n",
      "4 1\n",
      "G A\n",
      "-1\n",
      "[np.int64(-4), np.int64(-2), np.int64(-5)]\n",
      "\n",
      "4 2\n",
      "G T\n",
      "-1\n",
      "[np.int64(-2), np.int64(0), np.int64(-3)]\n",
      "\n",
      "4 3\n",
      "G T\n",
      "-1\n",
      "[np.int64(0), np.int64(-1), np.int64(-1)]\n",
      "\n",
      "4 4\n",
      "G A\n",
      "-1\n",
      "[np.int64(-1), np.int64(-2), np.int64(-1)]\n",
      "\n",
      "4 5\n",
      "G C\n",
      "-1\n",
      "[np.int64(-2), np.int64(-3), np.int64(-2)]\n",
      "\n",
      "4 6\n",
      "G A\n",
      "-1\n",
      "[np.int64(-3), np.int64(-4), np.int64(-3)]\n",
      "\n",
      "5 1\n",
      "C A\n",
      "-1\n",
      "[np.int64(-5), np.int64(-3), np.int64(-6)]\n",
      "\n",
      "5 2\n",
      "C T\n",
      "-1\n",
      "[np.int64(-3), np.int64(-1), np.int64(-4)]\n",
      "\n",
      "5 3\n",
      "C T\n",
      "-1\n",
      "[np.int64(-1), np.int64(-1), np.int64(-2)]\n",
      "\n",
      "5 4\n",
      "C A\n",
      "-1\n",
      "[np.int64(-1), np.int64(-2), np.int64(-2)]\n",
      "\n",
      "5 5\n",
      "C C\n",
      "1\n",
      "[np.int64(0), np.int64(-3), np.int64(-2)]\n",
      "\n",
      "5 6\n",
      "C A\n",
      "-1\n",
      "[np.int64(-3), np.int64(-4), np.int64(-1)]\n",
      "\n",
      "6 1\n",
      "G A\n",
      "-1\n",
      "[np.int64(-6), np.int64(-4), np.int64(-7)]\n",
      "\n",
      "6 2\n",
      "G T\n",
      "-1\n",
      "[np.int64(-4), np.int64(-2), np.int64(-5)]\n",
      "\n",
      "6 3\n",
      "G T\n",
      "-1\n",
      "[np.int64(-2), np.int64(-2), np.int64(-3)]\n",
      "\n",
      "6 4\n",
      "G A\n",
      "-1\n",
      "[np.int64(-2), np.int64(-2), np.int64(-3)]\n",
      "\n",
      "6 5\n",
      "G C\n",
      "-1\n",
      "[np.int64(-2), np.int64(-1), np.int64(-3)]\n",
      "\n",
      "6 6\n",
      "G A\n",
      "-1\n",
      "[np.int64(-1), np.int64(-2), np.int64(-2)]\n",
      "\n"
     ]
    }
   ],
   "source": [
    "score, traceback = sequence_alignment(t, s)"
   ]
  },
  {
   "cell_type": "code",
   "execution_count": 28,
   "id": "3cda2141",
   "metadata": {},
   "outputs": [
    {
     "data": {
      "text/plain": [
       "array([[ 0, -1, -2, -3, -4, -5, -6],\n",
       "       [-1, -1, -2, -3, -4, -3, -4],\n",
       "       [-2,  0, -1, -2, -2, -3, -2],\n",
       "       [-3, -1,  1,  0, -1, -2, -3],\n",
       "       [-4, -2,  0,  0, -1, -2, -3],\n",
       "       [-5, -3, -1, -1, -1,  0, -1],\n",
       "       [-6, -4, -2, -2, -2, -1, -1]])"
      ]
     },
     "execution_count": 28,
     "metadata": {},
     "output_type": "execute_result"
    }
   ],
   "source": [
    "score"
   ]
  },
  {
   "cell_type": "code",
   "execution_count": 29,
   "id": "71dd347f",
   "metadata": {},
   "outputs": [
    {
     "data": {
      "text/plain": [
       "array([[0, 2, 2, 2, 2, 2, 2],\n",
       "       [3, 1, 1, 1, 1, 1, 3],\n",
       "       [3, 1, 3, 3, 1, 3, 1],\n",
       "       [3, 2, 1, 1, 3, 3, 2],\n",
       "       [3, 2, 2, 1, 1, 1, 1],\n",
       "       [3, 2, 2, 1, 1, 1, 3],\n",
       "       [3, 2, 2, 1, 1, 2, 1]])"
      ]
     },
     "execution_count": 29,
     "metadata": {},
     "output_type": "execute_result"
    }
   ],
   "source": [
    "traceback"
   ]
  },
  {
   "cell_type": "code",
   "execution_count": 33,
   "id": "66832cb9",
   "metadata": {},
   "outputs": [],
   "source": [
    "base_lookup = {\n",
    "    \"A\": 1,\n",
    "    \"C\": 2,\n",
    "    \"G\": 3,\n",
    "    \"T\": 4\n",
    "}"
   ]
  },
  {
   "cell_type": "code",
   "execution_count": 36,
   "id": "bed2de25",
   "metadata": {},
   "outputs": [],
   "source": [
    "t_num = [base_lookup[i] for i in t]"
   ]
  },
  {
   "cell_type": "code",
   "execution_count": 40,
   "id": "55d4dbfe",
   "metadata": {},
   "outputs": [],
   "source": [
    "s_num = np.array([base_lookup[i] for i in s])"
   ]
  },
  {
   "cell_type": "code",
   "execution_count": 38,
   "id": "3c1751b6",
   "metadata": {},
   "outputs": [],
   "source": [
    "t_num = np.array(t_num)"
   ]
  },
  {
   "cell_type": "code",
   "execution_count": 39,
   "id": "b78a9a1c",
   "metadata": {},
   "outputs": [
    {
     "data": {
      "text/plain": [
       "array([2, 1, 3, 1, 2, 3, 4, 4, 1, 4, 4, 2, 2, 3, 1, 4, 1, 2, 1, 2, 2, 4,\n",
       "       3, 4, 4, 3, 1, 3, 3, 3, 4, 1, 1, 4, 3, 1, 3, 2, 3, 3, 2, 1, 3, 3,\n",
       "       1, 1, 3, 2, 1, 3, 2, 3, 3, 1, 4, 2, 2, 3, 3, 1, 2, 2, 2, 3, 2, 4,\n",
       "       1, 4, 1, 4, 2, 3, 2, 2, 4, 1, 2, 4, 4, 3, 1, 4, 1, 4, 2, 3, 3, 4,\n",
       "       4, 4, 1, 4, 3, 3, 3, 1, 2, 3, 2, 3, 2, 3, 2, 2, 4, 2, 1, 2, 3, 1,\n",
       "       4, 3, 4, 2, 2, 2, 1, 3, 3, 2, 4, 4, 2, 4, 3, 1, 4, 2, 3, 4])"
      ]
     },
     "execution_count": 39,
     "metadata": {},
     "output_type": "execute_result"
    }
   ],
   "source": [
    "t_num"
   ]
  },
  {
   "cell_type": "code",
   "execution_count": 41,
   "id": "c05eace2",
   "metadata": {},
   "outputs": [
    {
     "data": {
      "text/plain": [
       "array([2, 4, 2, 2, 1, 3, 4, 1, 4, 4, 2, 4, 2, 2, 1, 3, 3, 1, 3, 1, 4, 1,\n",
       "       1, 1, 4, 4, 1, 1, 2, 3, 1, 4, 1, 1, 2, 4, 2, 4, 1, 1, 3, 1, 4, 3,\n",
       "       2, 2, 3, 1, 1, 4, 2, 2, 3, 2, 4, 1, 1, 1, 4, 1, 2, 2, 1, 3, 3, 4,\n",
       "       1, 1, 3, 3, 1, 3, 3, 3, 4, 2, 2, 2, 4, 3, 3, 4, 2, 2, 4, 1, 1, 4,\n",
       "       1, 3, 2, 4, 1, 4, 1, 3, 2, 2, 3, 1, 1, 1, 1, 3, 2, 4, 1, 2, 2, 2,\n",
       "       4, 1, 4, 3, 1, 1, 2, 1, 3, 2, 2, 1, 4, 1, 2, 4, 2, 2, 4, 2, 3, 4,\n",
       "       4, 2, 3, 2, 2, 4, 3, 3, 1, 3, 3, 4, 1, 4, 3, 4, 4, 2, 4, 4, 4, 1,\n",
       "       3, 2, 2, 1, 1, 4, 2, 1, 1, 3, 2, 1, 3, 2, 1, 3, 3, 4, 3, 3, 4, 3,\n",
       "       1, 1, 3, 3, 4, 3, 1, 4, 2, 3, 4, 3, 3, 4, 1, 1, 4, 1, 4, 1, 2, 1,\n",
       "       3, 4, 4, 4, 3, 3, 1, 4, 1, 4, 1, 2, 2, 3, 3, 1, 3, 4, 1, 3, 4, 2,\n",
       "       3, 1, 2, 2, 1, 4, 3, 1, 3, 4])"
      ]
     },
     "execution_count": 41,
     "metadata": {},
     "output_type": "execute_result"
    }
   ],
   "source": [
    "s_num"
   ]
  },
  {
   "cell_type": "code",
   "execution_count": 42,
   "id": "ab3e4f9b",
   "metadata": {},
   "outputs": [],
   "source": [
    "i = 2"
   ]
  },
  {
   "cell_type": "code",
   "execution_count": 43,
   "id": "ec7a451b",
   "metadata": {},
   "outputs": [
    {
     "data": {
      "text/plain": [
       "array([0, 1, 1, 1, 0, 1, 1, 1, 1, 1, 1, 0, 0, 1, 1, 1, 1, 0, 1, 0, 0, 1,\n",
       "       1, 1, 1, 1, 1, 1, 1, 1, 1, 1, 1, 1, 1, 1, 1, 0, 1, 1, 0, 1, 1, 1,\n",
       "       1, 1, 1, 0, 1, 1, 0, 1, 1, 1, 1, 0, 0, 1, 1, 1, 0, 0, 0, 1, 0, 1,\n",
       "       1, 1, 1, 1, 0, 1, 0, 0, 1, 1, 0, 1, 1, 1, 1, 1, 1, 1, 0, 1, 1, 1,\n",
       "       1, 1, 1, 1, 1, 1, 1, 1, 0, 1, 0, 1, 0, 1, 0, 0, 1, 0, 1, 0, 1, 1,\n",
       "       1, 1, 1, 0, 0, 0, 1, 1, 1, 0, 1, 1, 0, 1, 1, 1, 1, 0, 1, 1])"
      ]
     },
     "execution_count": 43,
     "metadata": {},
     "output_type": "execute_result"
    }
   ],
   "source": [
    "np.where(i == t_num, 0, 1)"
   ]
  },
  {
   "cell_type": "code",
   "execution_count": null,
   "id": "63909920",
   "metadata": {},
   "outputs": [],
   "source": []
  }
 ],
 "metadata": {
  "kernelspec": {
   "display_name": "pytorch_gpu",
   "language": "python",
   "name": "python3"
  },
  "language_info": {
   "codemirror_mode": {
    "name": "ipython",
    "version": 3
   },
   "file_extension": ".py",
   "mimetype": "text/x-python",
   "name": "python",
   "nbconvert_exporter": "python",
   "pygments_lexer": "ipython3",
   "version": "3.12.3"
  }
 },
 "nbformat": 4,
 "nbformat_minor": 5
}
