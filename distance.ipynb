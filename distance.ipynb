{
 "cells": [
  {
   "cell_type": "markdown",
   "id": "0a5f96fc",
   "metadata": {},
   "source": [
    "Implementing string matching for DNA sequences"
   ]
  },
  {
   "cell_type": "code",
   "execution_count": 10,
   "id": "cd0ceefc",
   "metadata": {},
   "outputs": [],
   "source": [
    "from Levenshtein import distance\n",
    "import numpy as np\n",
    "from utils import create_random_strand"
   ]
  },
  {
   "cell_type": "code",
   "execution_count": 8,
   "id": "91bc5b6b",
   "metadata": {},
   "outputs": [
    {
     "data": {
      "text/plain": [
       "array([[0., 0., 0.],\n",
       "       [0., 0., 0.],\n",
       "       [0., 0., 0.]])"
      ]
     },
     "execution_count": 8,
     "metadata": {},
     "output_type": "execute_result"
    }
   ],
   "source": [
    "np.zeros((3,3))"
   ]
  },
  {
   "cell_type": "code",
   "execution_count": 32,
   "id": "050ef88d",
   "metadata": {},
   "outputs": [],
   "source": [
    "\n",
    "\n",
    "def lev_distance(a, b):\n",
    "    # Wagner fisher algorithm\n",
    "\n",
    "    c = np.zeros((len(a), len(b)), dtype=int)\n",
    "\n",
    "    for i in range(len(a)):\n",
    "        c[i, 0] = i\n",
    "\n",
    "    for i in range(len(b)):\n",
    "        c[0, i] = i\n",
    "\n",
    "\n",
    "    for i in range(1, len(a)):\n",
    "        for j in range(1, len(b)):\n",
    "\n",
    "            subsitution_cost = 0 if a[i] == b[j] else 1\n",
    "\n",
    "            c[i, j] = min(\n",
    "                c[i-1, j-1] + subsitution_cost,\n",
    "                c[i-1, j] + 1,\n",
    "                c[i, j-1] + 1\n",
    "            )\n",
    "\n",
    "    return c[i, j], c\n",
    "\n"
   ]
  },
  {
   "cell_type": "code",
   "execution_count": null,
   "id": "35d6e8f4",
   "metadata": {},
   "outputs": [],
   "source": [
    "def lev_distance_vec(a, b):\n",
    "    # Wagner fisher algorithm\n",
    "\n",
    "    c = np.zeros((len(a), len(b)), dtype=int)\n",
    "\n",
    "    for i in range(len(a)):\n",
    "        c[i, 0] = i\n",
    "\n",
    "    for i in range(len(b)):\n",
    "        c[0, i] = i\n",
    "\n",
    "    scs = \n",
    "\n",
    "\n",
    "    for i in range(1, len(a)):\n",
    "        for j in range(1, len(b)):\n",
    "\n",
    "            subsitution_cost = 0 if a[i] == b[j] else 1\n",
    "\n",
    "            c[i, j] = min(\n",
    "                c[i-1, j-1] + subsitution_cost,\n",
    "                c[i-1, j] + 1,\n",
    "                c[i, j-1] + 1\n",
    "            )\n",
    "\n",
    "    return c[i, j], c\n"
   ]
  },
  {
   "cell_type": "code",
   "execution_count": 66,
   "id": "3df45a6c",
   "metadata": {},
   "outputs": [],
   "source": [
    "t = \"AAACCAT\"\n",
    "s = \"ACAT\""
   ]
  },
  {
   "cell_type": "code",
   "execution_count": 67,
   "id": "d4497c70",
   "metadata": {},
   "outputs": [],
   "source": [
    "dis, mat = lev_distance(t, s)"
   ]
  },
  {
   "cell_type": "code",
   "execution_count": 68,
   "id": "1278841a",
   "metadata": {},
   "outputs": [
    {
     "data": {
      "text/plain": [
       "array([[0, 1, 2, 3],\n",
       "       [1, 1, 1, 2],\n",
       "       [2, 2, 1, 2],\n",
       "       [3, 2, 2, 2],\n",
       "       [4, 3, 3, 3],\n",
       "       [5, 4, 3, 4],\n",
       "       [6, 5, 4, 3]])"
      ]
     },
     "execution_count": 68,
     "metadata": {},
     "output_type": "execute_result"
    }
   ],
   "source": [
    "mat"
   ]
  },
  {
   "cell_type": "code",
   "execution_count": 31,
   "id": "3858285f",
   "metadata": {},
   "outputs": [
    {
     "data": {
      "text/plain": [
       "array([[  0,   1,   2, ..., 227, 228, 229],\n",
       "       [  1,   1,   2, ..., 226, 227, 228],\n",
       "       [  2,   2,   2, ..., 225, 226, 227],\n",
       "       ...,\n",
       "       [127, 126, 125, ..., 131, 131, 131],\n",
       "       [128, 127, 126, ..., 130, 131, 132],\n",
       "       [129, 128, 127, ..., 130, 131, 131]])"
      ]
     },
     "execution_count": 31,
     "metadata": {},
     "output_type": "execute_result"
    }
   ],
   "source": [
    "mat"
   ]
  },
  {
   "cell_type": "code",
   "execution_count": 33,
   "id": "66832cb9",
   "metadata": {},
   "outputs": [],
   "source": [
    "base_lookup = {\n",
    "    \"A\": 1,\n",
    "    \"C\": 2,\n",
    "    \"G\": 3,\n",
    "    \"T\": 4\n",
    "}"
   ]
  },
  {
   "cell_type": "code",
   "execution_count": 36,
   "id": "bed2de25",
   "metadata": {},
   "outputs": [],
   "source": [
    "t_num = [base_lookup[i] for i in t]"
   ]
  },
  {
   "cell_type": "code",
   "execution_count": 40,
   "id": "55d4dbfe",
   "metadata": {},
   "outputs": [],
   "source": [
    "s_num = np.array([base_lookup[i] for i in s])"
   ]
  },
  {
   "cell_type": "code",
   "execution_count": 38,
   "id": "3c1751b6",
   "metadata": {},
   "outputs": [],
   "source": [
    "t_num = np.array(t_num)"
   ]
  },
  {
   "cell_type": "code",
   "execution_count": 39,
   "id": "b78a9a1c",
   "metadata": {},
   "outputs": [
    {
     "data": {
      "text/plain": [
       "array([2, 1, 3, 1, 2, 3, 4, 4, 1, 4, 4, 2, 2, 3, 1, 4, 1, 2, 1, 2, 2, 4,\n",
       "       3, 4, 4, 3, 1, 3, 3, 3, 4, 1, 1, 4, 3, 1, 3, 2, 3, 3, 2, 1, 3, 3,\n",
       "       1, 1, 3, 2, 1, 3, 2, 3, 3, 1, 4, 2, 2, 3, 3, 1, 2, 2, 2, 3, 2, 4,\n",
       "       1, 4, 1, 4, 2, 3, 2, 2, 4, 1, 2, 4, 4, 3, 1, 4, 1, 4, 2, 3, 3, 4,\n",
       "       4, 4, 1, 4, 3, 3, 3, 1, 2, 3, 2, 3, 2, 3, 2, 2, 4, 2, 1, 2, 3, 1,\n",
       "       4, 3, 4, 2, 2, 2, 1, 3, 3, 2, 4, 4, 2, 4, 3, 1, 4, 2, 3, 4])"
      ]
     },
     "execution_count": 39,
     "metadata": {},
     "output_type": "execute_result"
    }
   ],
   "source": [
    "t_num"
   ]
  },
  {
   "cell_type": "code",
   "execution_count": 41,
   "id": "c05eace2",
   "metadata": {},
   "outputs": [
    {
     "data": {
      "text/plain": [
       "array([2, 4, 2, 2, 1, 3, 4, 1, 4, 4, 2, 4, 2, 2, 1, 3, 3, 1, 3, 1, 4, 1,\n",
       "       1, 1, 4, 4, 1, 1, 2, 3, 1, 4, 1, 1, 2, 4, 2, 4, 1, 1, 3, 1, 4, 3,\n",
       "       2, 2, 3, 1, 1, 4, 2, 2, 3, 2, 4, 1, 1, 1, 4, 1, 2, 2, 1, 3, 3, 4,\n",
       "       1, 1, 3, 3, 1, 3, 3, 3, 4, 2, 2, 2, 4, 3, 3, 4, 2, 2, 4, 1, 1, 4,\n",
       "       1, 3, 2, 4, 1, 4, 1, 3, 2, 2, 3, 1, 1, 1, 1, 3, 2, 4, 1, 2, 2, 2,\n",
       "       4, 1, 4, 3, 1, 1, 2, 1, 3, 2, 2, 1, 4, 1, 2, 4, 2, 2, 4, 2, 3, 4,\n",
       "       4, 2, 3, 2, 2, 4, 3, 3, 1, 3, 3, 4, 1, 4, 3, 4, 4, 2, 4, 4, 4, 1,\n",
       "       3, 2, 2, 1, 1, 4, 2, 1, 1, 3, 2, 1, 3, 2, 1, 3, 3, 4, 3, 3, 4, 3,\n",
       "       1, 1, 3, 3, 4, 3, 1, 4, 2, 3, 4, 3, 3, 4, 1, 1, 4, 1, 4, 1, 2, 1,\n",
       "       3, 4, 4, 4, 3, 3, 1, 4, 1, 4, 1, 2, 2, 3, 3, 1, 3, 4, 1, 3, 4, 2,\n",
       "       3, 1, 2, 2, 1, 4, 3, 1, 3, 4])"
      ]
     },
     "execution_count": 41,
     "metadata": {},
     "output_type": "execute_result"
    }
   ],
   "source": [
    "s_num"
   ]
  },
  {
   "cell_type": "code",
   "execution_count": 42,
   "id": "ab3e4f9b",
   "metadata": {},
   "outputs": [],
   "source": [
    "i = 2"
   ]
  },
  {
   "cell_type": "code",
   "execution_count": 43,
   "id": "ec7a451b",
   "metadata": {},
   "outputs": [
    {
     "data": {
      "text/plain": [
       "array([0, 1, 1, 1, 0, 1, 1, 1, 1, 1, 1, 0, 0, 1, 1, 1, 1, 0, 1, 0, 0, 1,\n",
       "       1, 1, 1, 1, 1, 1, 1, 1, 1, 1, 1, 1, 1, 1, 1, 0, 1, 1, 0, 1, 1, 1,\n",
       "       1, 1, 1, 0, 1, 1, 0, 1, 1, 1, 1, 0, 0, 1, 1, 1, 0, 0, 0, 1, 0, 1,\n",
       "       1, 1, 1, 1, 0, 1, 0, 0, 1, 1, 0, 1, 1, 1, 1, 1, 1, 1, 0, 1, 1, 1,\n",
       "       1, 1, 1, 1, 1, 1, 1, 1, 0, 1, 0, 1, 0, 1, 0, 0, 1, 0, 1, 0, 1, 1,\n",
       "       1, 1, 1, 0, 0, 0, 1, 1, 1, 0, 1, 1, 0, 1, 1, 1, 1, 0, 1, 1])"
      ]
     },
     "execution_count": 43,
     "metadata": {},
     "output_type": "execute_result"
    }
   ],
   "source": [
    "np.where(i == t_num, 0, 1)"
   ]
  },
  {
   "cell_type": "code",
   "execution_count": null,
   "id": "63909920",
   "metadata": {},
   "outputs": [],
   "source": []
  }
 ],
 "metadata": {
  "kernelspec": {
   "display_name": "pytorch_gpu",
   "language": "python",
   "name": "python3"
  },
  "language_info": {
   "codemirror_mode": {
    "name": "ipython",
    "version": 3
   },
   "file_extension": ".py",
   "mimetype": "text/x-python",
   "name": "python",
   "nbconvert_exporter": "python",
   "pygments_lexer": "ipython3",
   "version": "3.12.3"
  }
 },
 "nbformat": 4,
 "nbformat_minor": 5
}
